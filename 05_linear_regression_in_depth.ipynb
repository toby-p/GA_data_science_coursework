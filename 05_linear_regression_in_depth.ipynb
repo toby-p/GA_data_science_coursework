{
 "cells": [
  {
   "cell_type": "markdown",
   "metadata": {},
   "source": [
    "# Lesson 5 - Starter Code"
   ]
  },
  {
   "cell_type": "code",
   "execution_count": 1,
   "metadata": {
    "collapsed": false
   },
   "outputs": [],
   "source": [
    "# Usual imports\n",
    "from matplotlib import pyplot as plt\n",
    "import numpy as np\n",
    "import pandas as pd\n",
    "\n",
    "# New! We'll demo a couple nice dataviz libraries today\n",
    "from ggplot import *  # may need to pip install ggplot\n",
    "import seaborn as sns"
   ]
  },
  {
   "cell_type": "code",
   "execution_count": 2,
   "metadata": {
    "collapsed": true
   },
   "outputs": [],
   "source": [
    "# Plot matplotlib plots & set the seaborn plotting style\n",
    "%matplotlib inline\n",
    "sns.set_style(\"darkgrid\")"
   ]
  },
  {
   "cell_type": "code",
   "execution_count": 3,
   "metadata": {
    "collapsed": false
   },
   "outputs": [
    {
     "name": "stdout",
     "output_type": "stream",
     "text": [
      "DATA_DIR: resources\n",
      "CSV filepath: resources\\msleep.csv\n"
     ]
    }
   ],
   "source": [
    "# We're going to use pathlib for relative paths to our datasets folder (this is a built-in library in Python3)\n",
    "# If running this line throws an error, may need to do: `pip install pathlib` from CLI\n",
    "# For more info see: https://pypi.python.org/pypi/pathlib/\n",
    "from pathlib import Path\n",
    "DATA_DIR = Path('./resources')  # If you're not executing from the repo, you can just hardcode your data dir\n",
    "print \"DATA_DIR:\", DATA_DIR\n",
    "print \"CSV filepath:\", DATA_DIR / 'msleep.csv'  # pathlib resolves this to OS-relative path to '../../datasets/DAT-8/msleep.csv'"
   ]
  },
  {
   "cell_type": "code",
   "execution_count": 4,
   "metadata": {
    "collapsed": false
   },
   "outputs": [
    {
     "data": {
      "text/html": [
       "<div>\n",
       "<table border=\"1\" class=\"dataframe\">\n",
       "  <thead>\n",
       "    <tr style=\"text-align: right;\">\n",
       "      <th></th>\n",
       "      <th>name</th>\n",
       "      <th>genus</th>\n",
       "      <th>vore</th>\n",
       "      <th>order</th>\n",
       "      <th>conservation</th>\n",
       "      <th>sleep_total</th>\n",
       "      <th>sleep_rem</th>\n",
       "      <th>sleep_cycle</th>\n",
       "      <th>awake</th>\n",
       "      <th>brainwt</th>\n",
       "      <th>bodywt</th>\n",
       "    </tr>\n",
       "  </thead>\n",
       "  <tbody>\n",
       "    <tr>\n",
       "      <th>0</th>\n",
       "      <td>Cheetah</td>\n",
       "      <td>Acinonyx</td>\n",
       "      <td>carni</td>\n",
       "      <td>Carnivora</td>\n",
       "      <td>lc</td>\n",
       "      <td>12.1</td>\n",
       "      <td>NaN</td>\n",
       "      <td>NaN</td>\n",
       "      <td>11.9</td>\n",
       "      <td>NaN</td>\n",
       "      <td>50.000</td>\n",
       "    </tr>\n",
       "    <tr>\n",
       "      <th>1</th>\n",
       "      <td>Owl monkey</td>\n",
       "      <td>Aotus</td>\n",
       "      <td>omni</td>\n",
       "      <td>Primates</td>\n",
       "      <td>NaN</td>\n",
       "      <td>17.0</td>\n",
       "      <td>1.8</td>\n",
       "      <td>NaN</td>\n",
       "      <td>7.0</td>\n",
       "      <td>0.01550</td>\n",
       "      <td>0.480</td>\n",
       "    </tr>\n",
       "    <tr>\n",
       "      <th>2</th>\n",
       "      <td>Mountain beaver</td>\n",
       "      <td>Aplodontia</td>\n",
       "      <td>herbi</td>\n",
       "      <td>Rodentia</td>\n",
       "      <td>nt</td>\n",
       "      <td>14.4</td>\n",
       "      <td>2.4</td>\n",
       "      <td>NaN</td>\n",
       "      <td>9.6</td>\n",
       "      <td>NaN</td>\n",
       "      <td>1.350</td>\n",
       "    </tr>\n",
       "    <tr>\n",
       "      <th>3</th>\n",
       "      <td>Greater short-tailed shrew</td>\n",
       "      <td>Blarina</td>\n",
       "      <td>omni</td>\n",
       "      <td>Soricomorpha</td>\n",
       "      <td>lc</td>\n",
       "      <td>14.9</td>\n",
       "      <td>2.3</td>\n",
       "      <td>0.133333</td>\n",
       "      <td>9.1</td>\n",
       "      <td>0.00029</td>\n",
       "      <td>0.019</td>\n",
       "    </tr>\n",
       "    <tr>\n",
       "      <th>4</th>\n",
       "      <td>Cow</td>\n",
       "      <td>Bos</td>\n",
       "      <td>herbi</td>\n",
       "      <td>Artiodactyla</td>\n",
       "      <td>domesticated</td>\n",
       "      <td>4.0</td>\n",
       "      <td>0.7</td>\n",
       "      <td>0.666667</td>\n",
       "      <td>20.0</td>\n",
       "      <td>0.42300</td>\n",
       "      <td>600.000</td>\n",
       "    </tr>\n",
       "  </tbody>\n",
       "</table>\n",
       "</div>"
      ],
      "text/plain": [
       "                         name       genus   vore         order  conservation  \\\n",
       "0                     Cheetah    Acinonyx  carni     Carnivora            lc   \n",
       "1                  Owl monkey       Aotus   omni      Primates           NaN   \n",
       "2             Mountain beaver  Aplodontia  herbi      Rodentia            nt   \n",
       "3  Greater short-tailed shrew     Blarina   omni  Soricomorpha            lc   \n",
       "4                         Cow         Bos  herbi  Artiodactyla  domesticated   \n",
       "\n",
       "   sleep_total  sleep_rem  sleep_cycle  awake  brainwt   bodywt  \n",
       "0         12.1        NaN          NaN   11.9      NaN   50.000  \n",
       "1         17.0        1.8          NaN    7.0  0.01550    0.480  \n",
       "2         14.4        2.4          NaN    9.6      NaN    1.350  \n",
       "3         14.9        2.3     0.133333    9.1  0.00029    0.019  \n",
       "4          4.0        0.7     0.666667   20.0  0.42300  600.000  "
      ]
     },
     "execution_count": 4,
     "metadata": {},
     "output_type": "execute_result"
    }
   ],
   "source": [
    "# Read in the mammal dataset\n",
    "mammals = pd.read_csv(DATA_DIR / 'msleep.csv')  # pandas will happily accept a pathlib Path() object\n",
    "# If this throws an error, you may need to upgrade your version of pandas to 0.18.0\n",
    "mammals.head()"
   ]
  },
  {
   "cell_type": "code",
   "execution_count": 5,
   "metadata": {
    "collapsed": true
   },
   "outputs": [],
   "source": [
    "# Remove rows where `brainwt` is missing\n",
    "mammals = mammals[mammals.brainwt.notnull()].copy()"
   ]
  },
  {
   "cell_type": "markdown",
   "metadata": {},
   "source": [
    "### Explore our mammals dataset"
   ]
  },
  {
   "cell_type": "code",
   "execution_count": 6,
   "metadata": {
    "collapsed": false
   },
   "outputs": [
    {
     "data": {
      "text/html": [
       "<div>\n",
       "<table border=\"1\" class=\"dataframe\">\n",
       "  <thead>\n",
       "    <tr style=\"text-align: right;\">\n",
       "      <th></th>\n",
       "      <th>name</th>\n",
       "      <th>genus</th>\n",
       "      <th>vore</th>\n",
       "      <th>order</th>\n",
       "      <th>conservation</th>\n",
       "      <th>sleep_total</th>\n",
       "      <th>sleep_rem</th>\n",
       "      <th>sleep_cycle</th>\n",
       "      <th>awake</th>\n",
       "      <th>brainwt</th>\n",
       "      <th>bodywt</th>\n",
       "    </tr>\n",
       "  </thead>\n",
       "  <tbody>\n",
       "    <tr>\n",
       "      <th>1</th>\n",
       "      <td>Owl monkey</td>\n",
       "      <td>Aotus</td>\n",
       "      <td>omni</td>\n",
       "      <td>Primates</td>\n",
       "      <td>NaN</td>\n",
       "      <td>17.0</td>\n",
       "      <td>1.8</td>\n",
       "      <td>NaN</td>\n",
       "      <td>7.0</td>\n",
       "      <td>0.01550</td>\n",
       "      <td>0.480</td>\n",
       "    </tr>\n",
       "    <tr>\n",
       "      <th>3</th>\n",
       "      <td>Greater short-tailed shrew</td>\n",
       "      <td>Blarina</td>\n",
       "      <td>omni</td>\n",
       "      <td>Soricomorpha</td>\n",
       "      <td>lc</td>\n",
       "      <td>14.9</td>\n",
       "      <td>2.3</td>\n",
       "      <td>0.133333</td>\n",
       "      <td>9.1</td>\n",
       "      <td>0.00029</td>\n",
       "      <td>0.019</td>\n",
       "    </tr>\n",
       "    <tr>\n",
       "      <th>4</th>\n",
       "      <td>Cow</td>\n",
       "      <td>Bos</td>\n",
       "      <td>herbi</td>\n",
       "      <td>Artiodactyla</td>\n",
       "      <td>domesticated</td>\n",
       "      <td>4.0</td>\n",
       "      <td>0.7</td>\n",
       "      <td>0.666667</td>\n",
       "      <td>20.0</td>\n",
       "      <td>0.42300</td>\n",
       "      <td>600.000</td>\n",
       "    </tr>\n",
       "    <tr>\n",
       "      <th>8</th>\n",
       "      <td>Dog</td>\n",
       "      <td>Canis</td>\n",
       "      <td>carni</td>\n",
       "      <td>Carnivora</td>\n",
       "      <td>domesticated</td>\n",
       "      <td>10.1</td>\n",
       "      <td>2.9</td>\n",
       "      <td>0.333333</td>\n",
       "      <td>13.9</td>\n",
       "      <td>0.07000</td>\n",
       "      <td>14.000</td>\n",
       "    </tr>\n",
       "    <tr>\n",
       "      <th>9</th>\n",
       "      <td>Roe deer</td>\n",
       "      <td>Capreolus</td>\n",
       "      <td>herbi</td>\n",
       "      <td>Artiodactyla</td>\n",
       "      <td>lc</td>\n",
       "      <td>3.0</td>\n",
       "      <td>NaN</td>\n",
       "      <td>NaN</td>\n",
       "      <td>21.0</td>\n",
       "      <td>0.09820</td>\n",
       "      <td>14.800</td>\n",
       "    </tr>\n",
       "  </tbody>\n",
       "</table>\n",
       "</div>"
      ],
      "text/plain": [
       "                         name      genus   vore         order  conservation  \\\n",
       "1                  Owl monkey      Aotus   omni      Primates           NaN   \n",
       "3  Greater short-tailed shrew    Blarina   omni  Soricomorpha            lc   \n",
       "4                         Cow        Bos  herbi  Artiodactyla  domesticated   \n",
       "8                         Dog      Canis  carni     Carnivora  domesticated   \n",
       "9                    Roe deer  Capreolus  herbi  Artiodactyla            lc   \n",
       "\n",
       "   sleep_total  sleep_rem  sleep_cycle  awake  brainwt   bodywt  \n",
       "1         17.0        1.8          NaN    7.0  0.01550    0.480  \n",
       "3         14.9        2.3     0.133333    9.1  0.00029    0.019  \n",
       "4          4.0        0.7     0.666667   20.0  0.42300  600.000  \n",
       "8         10.1        2.9     0.333333   13.9  0.07000   14.000  \n",
       "9          3.0        NaN          NaN   21.0  0.09820   14.800  "
      ]
     },
     "execution_count": 6,
     "metadata": {},
     "output_type": "execute_result"
    }
   ],
   "source": [
    "mammals.head()"
   ]
  },
  {
   "cell_type": "markdown",
   "metadata": {},
   "source": [
    "### Lets check out a scatter plot of body weight and brain weight"
   ]
  },
  {
   "cell_type": "code",
   "execution_count": 7,
   "metadata": {
    "collapsed": false
   },
   "outputs": [
    {
     "data": {
      "image/png": "[encoded data removed]",
      "text/plain": [
       "<matplotlib.figure.Figure at 0xb4c6908>"
      ]
     },
     "metadata": {},
     "output_type": "display_data"
    }
   ],
   "source": [
    "# Create a matplotlib figure\n",
    "plt.figure()\n",
    "# Generate a scatterplot inside the figure\n",
    "plt.plot(mammals.bodywt, mammals.brainwt, '.')\n",
    "# Show the plot\n",
    "plt.show()"
   ]
  },
  {
   "cell_type": "code",
   "execution_count": 8,
   "metadata": {
    "collapsed": false
   },
   "outputs": [
    {
     "data": {
      "text/plain": [
       "<seaborn.axisgrid.FacetGrid at 0xb4944a8>"
      ]
     },
     "execution_count": 8,
     "metadata": {},
     "output_type": "execute_result"
    },
    {
     "data": {
      "image/png": "[encoded data removed]",
      "text/plain": [
       "<matplotlib.figure.Figure at 0xb4944e0>"
      ]
     },
     "metadata": {},
     "output_type": "display_data"
    }
   ],
   "source": [
    "# Do it using the Seaborn library (if a FutureWarning pops up, you can ignore this, re-execute to clear it)\n",
    "# https://web.stanford.edu/~mwaskom/software/seaborn/generated/seaborn.lmplot.html\n",
    "sns.lmplot('bodywt', 'brainwt', mammals)"
   ]
  },
  {
   "cell_type": "markdown",
   "metadata": {},
   "source": [
    "Notice:\n",
    "1. The lmplot() function returns a straight line. That is why it is a linear solution. If we had multiple variables, the solution would be a linear plane.\n",
    "2. The linear solution does explain a portion of the data well, but because both \"bodywt\" and \"brainwt\" are log-log distributions, outliers effect the weight of the solution poorly. We can see this from the wide and inconsistently shaped confidence intervals that seaborn's lmplot generates."
   ]
  },
  {
   "cell_type": "code",
   "execution_count": 10,
   "metadata": {
    "collapsed": false
   },
   "outputs": [
    {
     "data": {
      "image/png": "[encoded data removed]",
      "text/plain": [
       "<matplotlib.figure.Figure at 0xe420160>"
      ]
     },
     "metadata": {},
     "output_type": "display_data"
    },
    {
     "data": {
      "text/plain": [
       "<ggplot: (14950520)>"
      ]
     },
     "execution_count": 10,
     "metadata": {},
     "output_type": "execute_result"
    }
   ],
   "source": [
    "# Do it using the ggplot library (as above, run twice to clear the FutureWarning)\n",
    "# http://ggplot.yhathq.com/docs/geom_point.html\n",
    "ggplot(aes(x='bodywt', y='brainwt'), data=mammals) + \\\n",
    "    geom_point() + \\\n",
    "    stat_smooth(method='lm', colour='blue')"
   ]
  },
  {
   "cell_type": "code",
   "execution_count": 11,
   "metadata": {
    "collapsed": false
   },
   "outputs": [
    {
     "data": {
      "image/png": "[encoded data removed]",
      "text/plain": [
       "<matplotlib.figure.Figure at 0xe5985c0>"
      ]
     },
     "metadata": {},
     "output_type": "display_data"
    },
    {
     "name": "stdout",
     "output_type": "stream",
     "text": [
      "<ggplot: (11790628)>\n"
     ]
    },
    {
     "data": {
      "image/png": "[encoded data removed]",
      "text/plain": [
       "<matplotlib.figure.Figure at 0xba0c208>"
      ]
     },
     "metadata": {},
     "output_type": "display_data"
    },
    {
     "name": "stdout",
     "output_type": "stream",
     "text": [
      "<ggplot: (12192993)>\n"
     ]
    }
   ],
   "source": [
    "# bodywt and brainwt look like they may not be normally distributed, let's check that\n",
    "print ggplot(aes(x='bodywt'), data=mammals) + geom_density(alpha=0.6, colour='black', fill='red') + ggtitle('bodywt')\n",
    "print ggplot(aes(x='brainwt'), data=mammals) + geom_density(alpha=0.6, colour='black', fill='green') + ggtitle('brainwt')"
   ]
  },
  {
   "cell_type": "markdown",
   "metadata": {},
   "source": [
    "Because both variables are a log-log distribution, some properties of the underlying maths allow us to transform them into normal distributions. Then, we can solve for the linear regression!"
   ]
  },
  {
   "cell_type": "code",
   "execution_count": 12,
   "metadata": {
    "collapsed": false
   },
   "outputs": [],
   "source": [
    "# Let's try log-transforming bodywt and brainwt\n",
    "log_columns = ['bodywt', 'brainwt']\n",
    "log_mammals = mammals.copy()\n",
    "log_mammals[log_columns] = log_mammals[log_columns].apply(np.log10)"
   ]
  },
  {
   "cell_type": "code",
   "execution_count": 13,
   "metadata": {
    "collapsed": false
   },
   "outputs": [
    {
     "data": {
      "image/png": "[encoded data removed]",
      "text/plain": [
       "<matplotlib.figure.Figure at 0xea55438>"
      ]
     },
     "metadata": {},
     "output_type": "display_data"
    },
    {
     "name": "stdout",
     "output_type": "stream",
     "text": [
      "<ggplot: (12130133)>\n"
     ]
    },
    {
     "data": {
      "image/png": "[encoded data removed]",
      "text/plain": [
       "<matplotlib.figure.Figure at 0xeace898>"
      ]
     },
     "metadata": {},
     "output_type": "display_data"
    },
    {
     "name": "stdout",
     "output_type": "stream",
     "text": [
      "<ggplot: (15391902)>\n"
     ]
    }
   ],
   "source": [
    "# This looks better\n",
    "print ggplot(aes(x='bodywt'), data=log_mammals) + geom_density(alpha=0.6, colour='black', fill='red') + ggtitle('bodywt')\n",
    "print ggplot(aes(x='brainwt'), data=log_mammals) + geom_density(alpha=0.6, colour='black', fill='green') + ggtitle('brainwt')"
   ]
  },
  {
   "cell_type": "code",
   "execution_count": 14,
   "metadata": {
    "collapsed": false
   },
   "outputs": [
    {
     "data": {
      "image/png": "[encoded data removed]",
      "text/plain": [
       "<matplotlib.figure.Figure at 0xb8ff630>"
      ]
     },
     "metadata": {},
     "output_type": "display_data"
    },
    {
     "data": {
      "text/plain": [
       "<ggplot: (15046762)>"
      ]
     },
     "execution_count": 14,
     "metadata": {},
     "output_type": "execute_result"
    }
   ],
   "source": [
    "# Look at the log-transformed scatter\n",
    "ggplot(aes(x='bodywt', y='brainwt'), data=log_mammals) + \\\n",
    "    geom_point() + \\\n",
    "    stat_smooth(method='lm', colour='blue')"
   ]
  },
  {
   "cell_type": "code",
   "execution_count": 15,
   "metadata": {
    "collapsed": false
   },
   "outputs": [
    {
     "data": {
      "text/plain": [
       "<seaborn.axisgrid.FacetGrid at 0xed46828>"
      ]
     },
     "execution_count": 15,
     "metadata": {},
     "output_type": "execute_result"
    },
    {
     "data": {
      "image/png": "[encoded data removed]",
      "text/plain": [
       "<matplotlib.figure.Figure at 0xf0f86a0>"
      ]
     },
     "metadata": {},
     "output_type": "display_data"
    }
   ],
   "source": [
    "# Can also do this with Seaborn\n",
    "sns.lmplot('bodywt', 'brainwt', log_mammals)"
   ]
  },
  {
   "cell_type": "markdown",
   "metadata": {},
   "source": [
    "N.B. Even though we changed the way the data was shaped, this is still a linear result: it's just linear in the log10 of the data, instead of in the data's natural state."
   ]
  },
  {
   "cell_type": "markdown",
   "metadata": {},
   "source": [
    "## Guided Practice: Using ggplot to generate single variable linear model plots\n",
    "Update and complete the code below to use lmplot and display correlations between body weight and two dependent variables: sleep_rem and awake."
   ]
  },
  {
   "cell_type": "code",
   "execution_count": 16,
   "metadata": {
    "collapsed": false
   },
   "outputs": [
    {
     "data": {
      "image/png": "[encoded data removed]",
      "text/plain": [
       "<matplotlib.figure.Figure at 0xe9d15c0>"
      ]
     },
     "metadata": {},
     "output_type": "display_data"
    },
    {
     "name": "stdout",
     "output_type": "stream",
     "text": [
      "<ggplot: (15364661)>\n"
     ]
    },
    {
     "data": {
      "image/png": "[encoded data removed]",
      "text/plain": [
       "<matplotlib.figure.Figure at 0xea77cc0>"
      ]
     },
     "metadata": {},
     "output_type": "display_data"
    },
    {
     "name": "stdout",
     "output_type": "stream",
     "text": [
      "<ggplot: (15366099)>\n"
     ]
    }
   ],
   "source": [
    "log_columns = ['bodywt', 'brainwt',]  # any others?\n",
    "log_mammals = mammals.copy()\n",
    "log_mammals[log_columns] = log_mammals[log_columns].apply(np.log10)\n",
    "\n",
    "# Add code here to create two graphs displaying correlations between sleep_rem and awake (as y) and body weight (as x)\n",
    "y_vals = ['sleep_rem','awake']\n",
    "for y in y_vals:\n",
    "    print ggplot(aes(x='bodywt', y=y), data=log_mammals) + \\\n",
    "        geom_point() + \\\n",
    "        stat_smooth(method='lm', colour='blue')"
   ]
  },
  {
   "cell_type": "markdown",
   "metadata": {},
   "source": [
    "## Introduction: Single Regression Analysis in statsmodels & scikit"
   ]
  },
  {
   "cell_type": "code",
   "execution_count": 17,
   "metadata": {
    "collapsed": false
   },
   "outputs": [
    {
     "data": {
      "text/html": [
       "<table class=\"simpletable\">\n",
       "<caption>OLS Regression Results</caption>\n",
       "<tr>\n",
       "  <th>Dep. Variable:</th>            <td>y</td>        <th>  R-squared:         </th> <td>   0.872</td>\n",
       "</tr>\n",
       "<tr>\n",
       "  <th>Model:</th>                   <td>OLS</td>       <th>  Adj. R-squared:    </th> <td>   0.870</td>\n",
       "</tr>\n",
       "<tr>\n",
       "  <th>Method:</th>             <td>Least Squares</td>  <th>  F-statistic:       </th> <td>   367.7</td>\n",
       "</tr>\n",
       "<tr>\n",
       "  <th>Date:</th>             <td>Mon, 19 Sep 2016</td> <th>  Prob (F-statistic):</th> <td>9.16e-26</td>\n",
       "</tr>\n",
       "<tr>\n",
       "  <th>Time:</th>                 <td>12:43:15</td>     <th>  Log-Likelihood:    </th> <td> -20.070</td>\n",
       "</tr>\n",
       "<tr>\n",
       "  <th>No. Observations:</th>      <td>    56</td>      <th>  AIC:               </th> <td>   44.14</td>\n",
       "</tr>\n",
       "<tr>\n",
       "  <th>Df Residuals:</th>          <td>    54</td>      <th>  BIC:               </th> <td>   48.19</td>\n",
       "</tr>\n",
       "<tr>\n",
       "  <th>Df Model:</th>              <td>     1</td>      <th>                     </th>     <td> </td>   \n",
       "</tr>\n",
       "<tr>\n",
       "  <th>Covariance Type:</th>      <td>nonrobust</td>    <th>                     </th>     <td> </td>   \n",
       "</tr>\n",
       "</table>\n",
       "<table class=\"simpletable\">\n",
       "<tr>\n",
       "      <td></td>         <th>coef</th>     <th>std err</th>      <th>t</th>      <th>P>|t|</th> <th>[95.0% Conf. Int.]</th> \n",
       "</tr>\n",
       "<tr>\n",
       "  <th>Intercept</th> <td>    0.0859</td> <td>    0.048</td> <td>    1.782</td> <td> 0.080</td> <td>   -0.011     0.183</td>\n",
       "</tr>\n",
       "<tr>\n",
       "  <th>X</th>         <td>    0.0010</td> <td> 5.03e-05</td> <td>   19.176</td> <td> 0.000</td> <td>    0.001     0.001</td>\n",
       "</tr>\n",
       "</table>\n",
       "<table class=\"simpletable\">\n",
       "<tr>\n",
       "  <th>Omnibus:</th>       <td>85.068</td> <th>  Durbin-Watson:     </th> <td>   2.376</td> \n",
       "</tr>\n",
       "<tr>\n",
       "  <th>Prob(Omnibus):</th> <td> 0.000</td> <th>  Jarque-Bera (JB):  </th> <td>1330.630</td> \n",
       "</tr>\n",
       "<tr>\n",
       "  <th>Skew:</th>          <td> 4.258</td> <th>  Prob(JB):          </th> <td>1.14e-289</td>\n",
       "</tr>\n",
       "<tr>\n",
       "  <th>Kurtosis:</th>      <td>25.311</td> <th>  Cond. No.          </th> <td>    981.</td> \n",
       "</tr>\n",
       "</table>"
      ],
      "text/plain": [
       "<class 'statsmodels.iolib.summary.Summary'>\n",
       "\"\"\"\n",
       "                            OLS Regression Results                            \n",
       "==============================================================================\n",
       "Dep. Variable:                      y   R-squared:                       0.872\n",
       "Model:                            OLS   Adj. R-squared:                  0.870\n",
       "Method:                 Least Squares   F-statistic:                     367.7\n",
       "Date:                Mon, 19 Sep 2016   Prob (F-statistic):           9.16e-26\n",
       "Time:                        12:43:15   Log-Likelihood:                -20.070\n",
       "No. Observations:                  56   AIC:                             44.14\n",
       "Df Residuals:                      54   BIC:                             48.19\n",
       "Df Model:                           1                                         \n",
       "Covariance Type:            nonrobust                                         \n",
       "==============================================================================\n",
       "                 coef    std err          t      P>|t|      [95.0% Conf. Int.]\n",
       "------------------------------------------------------------------------------\n",
       "Intercept      0.0859      0.048      1.782      0.080        -0.011     0.183\n",
       "X              0.0010   5.03e-05     19.176      0.000         0.001     0.001\n",
       "==============================================================================\n",
       "Omnibus:                       85.068   Durbin-Watson:                   2.376\n",
       "Prob(Omnibus):                  0.000   Jarque-Bera (JB):             1330.630\n",
       "Skew:                           4.258   Prob(JB):                    1.14e-289\n",
       "Kurtosis:                      25.311   Cond. No.                         981.\n",
       "==============================================================================\n",
       "\n",
       "Warnings:\n",
       "[1] Standard Errors assume that the covariance matrix of the errors is correctly specified.\n",
       "\"\"\""
      ]
     },
     "execution_count": 17,
     "metadata": {},
     "output_type": "execute_result"
    }
   ],
   "source": [
    "# This is the standard import if you're using \"formula notation\" (similar to R)\n",
    "import statsmodels.formula.api as smf\n",
    "\n",
    "X = mammals[['bodywt']]\n",
    "y = mammals['brainwt']\n",
    "\n",
    "# Create a fitted model in one line with the following syntax formula:\n",
    "#     outcome ~ predictor1 + predictor2 ... predictorN\n",
    "\n",
    "lm = smf.ols(formula='y ~ X', data=mammals).fit()\n",
    "# Print the full linear model summary\n",
    "lm.summary()"
   ]
  },
  {
   "cell_type": "markdown",
   "metadata": {},
   "source": [
    "#### Use Statsmodels to make the prediction for a mammal with bodyweight = 50"
   ]
  },
  {
   "cell_type": "code",
   "execution_count": 18,
   "metadata": {
    "collapsed": false
   },
   "outputs": [
    {
     "data": {
      "text/html": [
       "<div>\n",
       "<table border=\"1\" class=\"dataframe\">\n",
       "  <thead>\n",
       "    <tr style=\"text-align: right;\">\n",
       "      <th></th>\n",
       "      <th>X</th>\n",
       "    </tr>\n",
       "  </thead>\n",
       "  <tbody>\n",
       "    <tr>\n",
       "      <th>0</th>\n",
       "      <td>50</td>\n",
       "    </tr>\n",
       "  </tbody>\n",
       "</table>\n",
       "</div>"
      ],
      "text/plain": [
       "    X\n",
       "0  50"
      ]
     },
     "execution_count": 18,
     "metadata": {},
     "output_type": "execute_result"
    }
   ],
   "source": [
    "# You have to create a DataFrame since the Statsmodels formula interface expects it\n",
    "X_new = pd.DataFrame({'X': [50]})\n",
    "X_new.head()"
   ]
  },
  {
   "cell_type": "code",
   "execution_count": 19,
   "metadata": {
    "collapsed": false
   },
   "outputs": [
    {
     "data": {
      "text/plain": [
       "array([ 0.13411477])"
      ]
     },
     "execution_count": 19,
     "metadata": {},
     "output_type": "execute_result"
    }
   ],
   "source": [
    "lm.predict(X_new)"
   ]
  },
  {
   "cell_type": "markdown",
   "metadata": {},
   "source": [
    "### Repeat in Scikit with handy plotting"
   ]
  },
  {
   "cell_type": "markdown",
   "metadata": {},
   "source": [
    "When modelling with sklearn, you'll use the following basic principles:\n",
    "\n",
    "- All sklearn estimators (modelling classes) follow the same \"base estimator\" design. This allows you to easily rotate through estimators without changing much code.\n",
    "- All estimators take a matrix X (can be either sparse or dense).\n",
    "- Many estimators also take a vector of outcome labels, y, when working on a supervised machine learning problem. Regressions are supervised learning because we already have examples of our outcome variable y for every row in X.\n",
    "- All estimators have parameters that can be set. This allows for customization and higher level of detail to the learning process. The parameters are unique to each estimator algorithm.\n",
    "- Finally, note the convention of capital letters for a matrix (e.g. X) vs lower case for a vector (e.g. y)."
   ]
  },
  {
   "cell_type": "code",
   "execution_count": 20,
   "metadata": {
    "collapsed": false
   },
   "outputs": [
    {
     "name": "stdout",
     "output_type": "stream",
     "text": [
      "lm:\n",
      "LinearRegression(copy_X=True, fit_intercept=True, n_jobs=1, normalize=False)\n",
      "\n",
      "lm.coef_\n",
      "[ 0.00096395]\n",
      "\n",
      "residuals\n",
      "[ -7.08800059e-02  -8.56456253e-02  -2.41286847e-01  -2.94125995e-02\n",
      "  -1.98375886e-03  -3.20960941e-03  -8.11190653e-02  -7.99221690e-02\n",
      "  -8.49751472e-02  -8.02812595e-02  -8.57821300e-02  -7.84911326e-02\n",
      "  -7.64609605e-02  -8.12560240e-02   2.06190401e+00  -8.56394811e-02\n",
      "   6.68651423e-02   1.52824184e-01  -8.31595512e-02   1.94431974e-02\n",
      "  -6.34983427e-02  -8.11101001e-02   1.57147005e-01  -7.61776770e-02\n",
      "   1.17431784e+00  -7.88035469e-01   8.65278350e-02  -8.50329842e-02\n",
      "  -8.55385172e-02  -8.56769498e-02  -7.47668392e-02  -7.62271834e-02\n",
      "   3.55835076e-02   3.03764540e-01  -2.53122330e-02   6.97574310e-02\n",
      "  -8.40474824e-02  -7.60789080e-02  -6.27542639e-02  -6.83875275e-02\n",
      "  -8.43257740e-02  -6.66335246e-02  -8.47896065e-02  -8.48799748e-02\n",
      "  -8.30349121e-02  -8.11041436e-02  -8.20146692e-02  -8.56335799e-02\n",
      "   1.09420689e-02  -6.52550818e-02  -1.16937739e-01  -8.41848646e-02\n",
      "  -8.35175610e-02  -7.03452087e-02  -4.46754587e-02  -3.95948155e-02]\n"
     ]
    }
   ],
   "source": [
    "# Online documentation is very handy! http://scikit-learn.org/stable/modules/linear_model.html\n",
    "from sklearn import feature_selection, linear_model\n",
    "\n",
    "# Create matrix of features (only one used for now) + vector of outcome labels\n",
    "X = mammals[['bodywt']]\n",
    "y = mammals['brainwt']\n",
    "\n",
    "# Create instance of LinearRegression class and fit model to the data\n",
    "lm = linear_model.LinearRegression()\n",
    "lm.fit(X, y)\n",
    "print \"lm:\"\n",
    "print lm\n",
    "print\n",
    "\n",
    "print \"lm.coef_\"\n",
    "print lm.coef_\n",
    "print\n",
    "\n",
    "print \"residuals\"\n",
    "print (y - lm.predict(X)).values"
   ]
  },
  {
   "cell_type": "code",
   "execution_count": 21,
   "metadata": {
    "collapsed": false
   },
   "outputs": [],
   "source": [
    "# Let's wrap this into a function that's model-independent\n",
    "\n",
    "def get_linear_model_metrics(X, y, algo):\n",
    "    \"\"\"\n",
    "    Get the p-value of X given y, ignore f-stat for now\n",
    "    \"\"\"\n",
    "    pvals = feature_selection.f_regression(X, y)[1]\n",
    "    # Start with an empty linear regression object\n",
    "    # .fit() runs the linear regression function on X and y\n",
    "    algo.fit(X,y)\n",
    "    residuals = (y - algo.predict(X)).values\n",
    "\n",
    "    # Print the necessary values\n",
    "    print 'P Values:', pvals\n",
    "    print 'Coefficients:', algo.coef_\n",
    "    print 'y-intercept:', algo.intercept_\n",
    "    print 'R-Squared:', algo.score(X,y)\n",
    "\n",
    "    # Visualise distribution of the residuals\n",
    "    plt.figure()\n",
    "    plt.hist(residuals, bins=np.ceil(np.sqrt(len(y))))\n",
    "    plt.title(\"Distribution of residuals\")\n",
    "    \n",
    "    # Keep the model\n",
    "    return algo\n"
   ]
  },
  {
   "cell_type": "code",
   "execution_count": 22,
   "metadata": {
    "collapsed": false
   },
   "outputs": [
    {
     "data": {
      "image/png": "[encoded data removed]",
      "text/plain": [
       "<matplotlib.figure.Figure at 0xec462e8>"
      ]
     },
     "metadata": {},
     "output_type": "display_data"
    },
    {
     "name": "stdout",
     "output_type": "stream",
     "text": [
      "<ggplot: (13575028)>\n",
      "P Values: [  9.15540205e-26]\n",
      "Coefficients: [ 0.00096395]\n",
      "y-intercept: 0.0859173102936\n",
      "R-Squared: 0.871949198087\n"
     ]
    },
    {
     "data": {
      "image/png": "[encoded data removed]",
      "text/plain": [
       "<matplotlib.figure.Figure at 0xbc88fd0>"
      ]
     },
     "metadata": {},
     "output_type": "display_data"
    }
   ],
   "source": [
    "# Let's try it out by building a linear model representing brainwt ~ bodywt\n",
    "# (remember this model is represented as: `brainwt = bodywt * coefficient + intercept`)\n",
    "X = mammals[['bodywt']]\n",
    "y = mammals['brainwt']\n",
    "\n",
    "# Let's visualise this model too\n",
    "print (ggplot(aes(x='bodywt', y='brainwt'), data=mammals) +\n",
    "    geom_point() +\n",
    "    stat_smooth(method='lm', colour='red', se=False) +\n",
    "    ggtitle(\"Linear model: brainwt ~ bodywt\"))\n",
    "\n",
    "lm = linear_model.LinearRegression()\n",
    "lm = get_linear_model_metrics(X, y, lm)  # note how lm object is passed into the function, then returned"
   ]
  },
  {
   "cell_type": "markdown",
   "metadata": {},
   "source": [
    "## Demo: Significance is Key"
   ]
  },
  {
   "cell_type": "markdown",
   "metadata": {},
   "source": [
    "### What does our output tell us?"
   ]
  },
  {
   "cell_type": "markdown",
   "metadata": {},
   "source": [
    "Answer: Very small but statistically significant effect."
   ]
  },
  {
   "cell_type": "markdown",
   "metadata": {},
   "source": [
    "### Evaluating Fit, Evaluating Sense"
   ]
  },
  {
   "cell_type": "markdown",
   "metadata": {},
   "source": [
    "Although we know there is a better solution to the model, we should evaluate some other \"common sense\" things first. For example, given this model, what is an animal's brainwt if their bodywt is 0?"
   ]
  },
  {
   "cell_type": "code",
   "execution_count": 23,
   "metadata": {
    "collapsed": false
   },
   "outputs": [
    {
     "name": "stdout",
     "output_type": "stream",
     "text": [
      "[ 0.08591731]\n"
     ]
    }
   ],
   "source": [
    "# What's the prediction at 0? Does it make sense?\n",
    "print lm.predict([[0]])"
   ]
  },
  {
   "cell_type": "code",
   "execution_count": 24,
   "metadata": {
    "collapsed": false
   },
   "outputs": [
    {
     "name": "stdout",
     "output_type": "stream",
     "text": [
      "P Values: [  9.15540205e-26]\n",
      "Coefficients: [ 0.00098291]\n",
      "y-intercept: 0.0\n",
      "R-Squared: 0.864418807451\n"
     ]
    },
    {
     "data": {
      "image/png": "[encoded data removed]",
      "text/plain": [
       "<matplotlib.figure.Figure at 0xec46400>"
      ]
     },
     "metadata": {},
     "output_type": "display_data"
    }
   ],
   "source": [
    "# A mammal with zero body weight should also have zero brain weight!\n",
    "\n",
    "# Let's force the intercept to be zero & retrain the model\n",
    "lm = linear_model.LinearRegression(fit_intercept=False)\n",
    "lm = get_linear_model_metrics(X, y, lm)"
   ]
  },
  {
   "cell_type": "code",
   "execution_count": 25,
   "metadata": {
    "collapsed": false
   },
   "outputs": [
    {
     "name": "stdout",
     "output_type": "stream",
     "text": [
      "[ 0.]\n"
     ]
    }
   ],
   "source": [
    "# What's the prediction at 0 now?\n",
    "print lm.predict([[0]])"
   ]
  },
  {
   "cell_type": "markdown",
   "metadata": {},
   "source": [
    "## Intrepretation\n",
    "With linear modeling we call this part of the linear assumption. Consider it a test to the model. If an animal's body weights nothing, we expect their brain to be nonexistent. That given, we can improve the model by telling sklearn's LinearRegression object we do not want to fit a y intercept.\n",
    "\n",
    "Now, the model fits where brainwt = 0, bodywt = 0.\n",
    "Because we start at 0, the large outliers have a greater effect, so the coefficient has increased.\n",
    "Fitting with this assumption also results in a model that explains slightly less of the variance."
   ]
  },
  {
   "cell_type": "markdown",
   "metadata": {},
   "source": [
    "## Guided Practice: Using the LinearRegression object\n",
    "\n",
    "We learned earlier that the data in its current state does not allow for the best linear regression fit. \n",
    "\n",
    "With a partner, generate two more models using the log-transformed data to see how this transform changes the model's performance.\n",
    "\n",
    "Complete the following code to update X and y to match the log-transformed data. Complete the loop by setting the list to be one True and one False."
   ]
  },
  {
   "cell_type": "code",
   "execution_count": 26,
   "metadata": {
    "collapsed": false
   },
   "outputs": [
    {
     "name": "stdout",
     "output_type": "stream",
     "text": [
      "y-intercept: True\n",
      "P Values: [  3.56282243e-33]\n",
      "Coefficients: [ 0.76516177]\n",
      "y-intercept: -2.07393164084\n",
      "R-Squared: 0.931851615367\n",
      "\n",
      "y-intercept: False\n",
      "P Values: [  3.56282243e-33]\n",
      "Coefficients: [ 0.35561441]\n",
      "y-intercept: 0.0\n",
      "R-Squared: -2.41053211437\n",
      "\n"
     ]
    },
    {
     "data": {
      "image/png": "[encoded data removed]",
      "text/plain": [
       "<matplotlib.figure.Figure at 0xec46198>"
      ]
     },
     "metadata": {},
     "output_type": "display_data"
    },
    {
     "data": {
      "image/png": "[encoded data removed]",
      "text/plain": [
       "<matplotlib.figure.Figure at 0xd11de80>"
      ]
     },
     "metadata": {},
     "output_type": "display_data"
    }
   ],
   "source": [
    "# Starter\n",
    "X = log_mammals[['bodywt']]\n",
    "y = log_mammals['brainwt']\n",
    "loop = [True,False]\n",
    "for boolean in loop:\n",
    "    print 'y-intercept:', boolean\n",
    "    lm = linear_model.LinearRegression(fit_intercept=boolean)\n",
    "    get_linear_model_metrics(X, y, lm)\n",
    "    print"
   ]
  },
  {
   "cell_type": "markdown",
   "metadata": {},
   "source": [
    "### Which model performed the best? The worst? Why?\n"
   ]
  },
  {
   "cell_type": "markdown",
   "metadata": {},
   "source": [
    "Answer: y-intercept = False because much better R-squared."
   ]
  },
  {
   "cell_type": "markdown",
   "metadata": {},
   "source": [
    "For more information on how scikit-learn's LinearRegression calculates R-squared, see:\n",
    "http://scikit-learn.org/stable/modules/generated/sklearn.linear_model.LinearRegression.html#sklearn.linear_model.LinearRegression.score\n",
    "\n",
    "_\"Best possible R^2 score is 1.0 and it can be negative (because the model can be arbitrarily worse). A constant model that always predicts the expected value of y, disregarding the input features, would get a R^2 score of 0.0._"
   ]
  },
  {
   "cell_type": "markdown",
   "metadata": {},
   "source": [
    "### Advanced Methods! \n",
    "\n",
    "We will go over different estimators in detail in the future but check it out in the docs if you're curious (and finish a little early)"
   ]
  },
  {
   "cell_type": "code",
   "execution_count": 27,
   "metadata": {
    "collapsed": false
   },
   "outputs": [
    {
     "name": "stdout",
     "output_type": "stream",
     "text": [
      "Lasso(alpha=1.0, copy_X=True, fit_intercept=True, max_iter=1000,\n",
      "   normalize=False, positive=False, precompute=False, random_state=None,\n",
      "   selection='cyclic', tol=0.0001, warm_start=False)\n",
      "P Values: [  3.56282243e-33]\n",
      "Coefficients: [ 0.23454772]\n",
      "y-intercept: -1.85931606304\n",
      "R-Squared: 0.483728109403\n",
      "\n",
      "\n",
      "\n",
      "Ridge(alpha=1.0, copy_X=True, fit_intercept=True, max_iter=None,\n",
      "   normalize=False, random_state=None, solver='auto', tol=0.001)\n",
      "P Values: [  3.56282243e-33]\n",
      "Coefficients: [ 0.75797972]\n",
      "y-intercept: -2.07102674342\n",
      "R-Squared: 0.931769516561\n",
      "\n",
      "\n",
      "\n",
      "ElasticNet(alpha=1.0, copy_X=True, fit_intercept=True, l1_ratio=0.5,\n",
      "      max_iter=1000, normalize=False, positive=False, precompute=False,\n",
      "      random_state=None, selection='cyclic', tol=0.0001, warm_start=False)\n",
      "P Values: [  3.56282243e-33]\n",
      "Coefficients: [ 0.39504621]\n",
      "y-intercept: -1.9242323166\n",
      "R-Squared: 0.71382228495\n",
      "\n",
      "\n",
      "\n"
     ]
    },
    {
     "data": {
      "image/png": "[encoded data removed]",
      "text/plain": [
       "<matplotlib.figure.Figure at 0xea55b38>"
      ]
     },
     "metadata": {},
     "output_type": "display_data"
    },
    {
     "data": {
      "image/png": "[encoded data removed]",
      "text/plain": [
       "<matplotlib.figure.Figure at 0xeffec18>"
      ]
     },
     "metadata": {},
     "output_type": "display_data"
    },
    {
     "data": {
      "image/png": "[encoded data removed]",
      "text/plain": [
       "<matplotlib.figure.Figure at 0xf10f208>"
      ]
     },
     "metadata": {},
     "output_type": "display_data"
    }
   ],
   "source": [
    "# Loading other sklearn regression estimators\n",
    "X = log_mammals[['bodywt']]\n",
    "y = log_mammals['brainwt']\n",
    "\n",
    "# Docs = http://scikit-learn.org/stable/modules/linear_model.html\n",
    "estimators = [\n",
    "    linear_model.Lasso(),\n",
    "    linear_model.Ridge(),\n",
    "    linear_model.ElasticNet(),\n",
    "]\n",
    "\n",
    "for est in estimators:\n",
    "    print est\n",
    "    get_linear_model_metrics(X, y, est)\n",
    "    print \"\\n\\n\""
   ]
  },
  {
   "cell_type": "markdown",
   "metadata": {},
   "source": [
    "## Introduction: Multiple Regression Analysis using citibike data\n"
   ]
  },
  {
   "cell_type": "markdown",
   "metadata": {},
   "source": [
    "In the previous example, one variable explained the variance of another; however, more often than not, we will need multiple variables. \n",
    "\n",
    "For example, a house's price may be best measured by square feet, but a lot of other variables play a vital role: bedrooms, bathrooms, location, appliances, etc. \n",
    "\n",
    "For a linear regression, we want these variables to be largely independent of each other, but all of them should help explain the y variable.\n",
    "\n",
    "We'll work with bikeshare data to showcase what this means and to explain a concept called multicollinearity.\n",
    "\n",
    "For more details on this dataset, including a data dictionary, please see: https://archive.ics.uci.edu/ml/datasets/Bike+Sharing+Dataset"
   ]
  },
  {
   "cell_type": "code",
   "execution_count": 28,
   "metadata": {
    "collapsed": false
   },
   "outputs": [
    {
     "data": {
      "text/html": [
       "<div>\n",
       "<table border=\"1\" class=\"dataframe\">\n",
       "  <thead>\n",
       "    <tr style=\"text-align: right;\">\n",
       "      <th></th>\n",
       "      <th>instant</th>\n",
       "      <th>dteday</th>\n",
       "      <th>season</th>\n",
       "      <th>yr</th>\n",
       "      <th>mnth</th>\n",
       "      <th>hr</th>\n",
       "      <th>holiday</th>\n",
       "      <th>weekday</th>\n",
       "      <th>workingday</th>\n",
       "      <th>weathersit</th>\n",
       "      <th>temp</th>\n",
       "      <th>atemp</th>\n",
       "      <th>hum</th>\n",
       "      <th>windspeed</th>\n",
       "      <th>casual</th>\n",
       "      <th>registered</th>\n",
       "      <th>cnt</th>\n",
       "    </tr>\n",
       "  </thead>\n",
       "  <tbody>\n",
       "    <tr>\n",
       "      <th>0</th>\n",
       "      <td>1</td>\n",
       "      <td>2011-01-01</td>\n",
       "      <td>1</td>\n",
       "      <td>0</td>\n",
       "      <td>1</td>\n",
       "      <td>0</td>\n",
       "      <td>0</td>\n",
       "      <td>6</td>\n",
       "      <td>0</td>\n",
       "      <td>1</td>\n",
       "      <td>0.24</td>\n",
       "      <td>0.2879</td>\n",
       "      <td>0.81</td>\n",
       "      <td>0.0</td>\n",
       "      <td>3</td>\n",
       "      <td>13</td>\n",
       "      <td>16</td>\n",
       "    </tr>\n",
       "    <tr>\n",
       "      <th>1</th>\n",
       "      <td>2</td>\n",
       "      <td>2011-01-01</td>\n",
       "      <td>1</td>\n",
       "      <td>0</td>\n",
       "      <td>1</td>\n",
       "      <td>1</td>\n",
       "      <td>0</td>\n",
       "      <td>6</td>\n",
       "      <td>0</td>\n",
       "      <td>1</td>\n",
       "      <td>0.22</td>\n",
       "      <td>0.2727</td>\n",
       "      <td>0.80</td>\n",
       "      <td>0.0</td>\n",
       "      <td>8</td>\n",
       "      <td>32</td>\n",
       "      <td>40</td>\n",
       "    </tr>\n",
       "    <tr>\n",
       "      <th>2</th>\n",
       "      <td>3</td>\n",
       "      <td>2011-01-01</td>\n",
       "      <td>1</td>\n",
       "      <td>0</td>\n",
       "      <td>1</td>\n",
       "      <td>2</td>\n",
       "      <td>0</td>\n",
       "      <td>6</td>\n",
       "      <td>0</td>\n",
       "      <td>1</td>\n",
       "      <td>0.22</td>\n",
       "      <td>0.2727</td>\n",
       "      <td>0.80</td>\n",
       "      <td>0.0</td>\n",
       "      <td>5</td>\n",
       "      <td>27</td>\n",
       "      <td>32</td>\n",
       "    </tr>\n",
       "    <tr>\n",
       "      <th>3</th>\n",
       "      <td>4</td>\n",
       "      <td>2011-01-01</td>\n",
       "      <td>1</td>\n",
       "      <td>0</td>\n",
       "      <td>1</td>\n",
       "      <td>3</td>\n",
       "      <td>0</td>\n",
       "      <td>6</td>\n",
       "      <td>0</td>\n",
       "      <td>1</td>\n",
       "      <td>0.24</td>\n",
       "      <td>0.2879</td>\n",
       "      <td>0.75</td>\n",
       "      <td>0.0</td>\n",
       "      <td>3</td>\n",
       "      <td>10</td>\n",
       "      <td>13</td>\n",
       "    </tr>\n",
       "    <tr>\n",
       "      <th>4</th>\n",
       "      <td>5</td>\n",
       "      <td>2011-01-01</td>\n",
       "      <td>1</td>\n",
       "      <td>0</td>\n",
       "      <td>1</td>\n",
       "      <td>4</td>\n",
       "      <td>0</td>\n",
       "      <td>6</td>\n",
       "      <td>0</td>\n",
       "      <td>1</td>\n",
       "      <td>0.24</td>\n",
       "      <td>0.2879</td>\n",
       "      <td>0.75</td>\n",
       "      <td>0.0</td>\n",
       "      <td>0</td>\n",
       "      <td>1</td>\n",
       "      <td>1</td>\n",
       "    </tr>\n",
       "  </tbody>\n",
       "</table>\n",
       "</div>"
      ],
      "text/plain": [
       "   instant      dteday  season  yr  mnth  hr  holiday  weekday  workingday  \\\n",
       "0        1  2011-01-01       1   0     1   0        0        6           0   \n",
       "1        2  2011-01-01       1   0     1   1        0        6           0   \n",
       "2        3  2011-01-01       1   0     1   2        0        6           0   \n",
       "3        4  2011-01-01       1   0     1   3        0        6           0   \n",
       "4        5  2011-01-01       1   0     1   4        0        6           0   \n",
       "\n",
       "   weathersit  temp   atemp   hum  windspeed  casual  registered  cnt  \n",
       "0           1  0.24  0.2879  0.81        0.0       3          13   16  \n",
       "1           1  0.22  0.2727  0.80        0.0       8          32   40  \n",
       "2           1  0.22  0.2727  0.80        0.0       5          27   32  \n",
       "3           1  0.24  0.2879  0.75        0.0       3          10   13  \n",
       "4           1  0.24  0.2879  0.75        0.0       0           1    1  "
      ]
     },
     "execution_count": 28,
     "metadata": {},
     "output_type": "execute_result"
    }
   ],
   "source": [
    "bike_data = pd.read_csv(DATA_DIR / 'bikeshare.csv')\n",
    "bike_data.head()"
   ]
  },
  {
   "cell_type": "markdown",
   "metadata": {},
   "source": [
    "### What is multicollinearity?\n",
    "\n",
    "With the bike share data, let's compare three data points: actual temperature (**`temp`**), \"feel\" temperature (**`atemp`**), and guest ridership (**`casual`**).\n",
    "\n",
    "Our data is already normalized between 0 and 1, so we'll start off with the correlations and modelling."
   ]
  },
  {
   "cell_type": "code",
   "execution_count": 29,
   "metadata": {
    "collapsed": false
   },
   "outputs": [
    {
     "name": "stdout",
     "output_type": "stream",
     "text": [
      "            temp     atemp    casual\n",
      "temp    1.000000  0.987672  0.459616\n",
      "atemp   0.987672  1.000000  0.454080\n",
      "casual  0.459616  0.454080  1.000000\n",
      "Axes(0.125,0.125;0.62x0.775)\n"
     ]
    },
    {
     "data": {
      "image/png": "[encoded data removed]",
      "text/plain": [
       "<matplotlib.figure.Figure at 0xede27b8>"
      ]
     },
     "metadata": {},
     "output_type": "display_data"
    }
   ],
   "source": [
    "colour_map = sns.diverging_palette(220, 10, as_cmap=True)\n",
    "\n",
    "correlations = bike_data[['temp', 'atemp', 'casual']].corr()\n",
    "print correlations\n",
    "print sns.heatmap(correlations, cmap=colour_map)"
   ]
  },
  {
   "cell_type": "markdown",
   "metadata": {},
   "source": [
    "### What does the correlation matrix explain?"
   ]
  },
  {
   "cell_type": "markdown",
   "metadata": {},
   "source": [
    "Answer: The correlation value between 0 and 1 for each of the variables selected for the visualisation. In this case *temp* and *atemp* are highly correlated, and there is a smaller correlation (~.5) between *temp* / *atemp* and *casual*."
   ]
  },
  {
   "cell_type": "markdown",
   "metadata": {},
   "source": [
    "## We can measure this effect in the coefficients:\n",
    "\n"
   ]
  },
  {
   "cell_type": "code",
   "execution_count": 30,
   "metadata": {
    "collapsed": false
   },
   "outputs": [
    {
     "name": "stdout",
     "output_type": "stream",
     "text": [
      "Model: casual ~ temp\n",
      "P Values: [ 0.]\n",
      "Coefficients: [ 117.68705779]\n",
      "y-intercept: -22.812739188\n",
      "R-Squared: 0.21124654163\n",
      "\n",
      "Model: casual ~ atemp\n",
      "P Values: [ 0.]\n",
      "Coefficients: [ 130.27875081]\n",
      "y-intercept: -26.3071675481\n",
      "R-Squared: 0.206188705733\n",
      "\n",
      "Model: casual ~ temp + atemp\n",
      "P Values: [ 0.  0.]\n",
      "Coefficients: [ 116.34021588    1.52795677]\n",
      "y-intercept: -22.8703398286\n",
      "R-Squared: 0.21124723661\n",
      "\n"
     ]
    },
    {
     "data": {
      "image/png": "[encoded data removed]",
      "text/plain": [
       "<matplotlib.figure.Figure at 0xd072d68>"
      ]
     },
     "metadata": {},
     "output_type": "display_data"
    },
    {
     "data": {
      "image/png": "[encoded data removed]",
      "text/plain": [
       "<matplotlib.figure.Figure at 0xd92ea20>"
      ]
     },
     "metadata": {},
     "output_type": "display_data"
    },
    {
     "data": {
      "image/png": "[encoded data removed]",
      "text/plain": [
       "<matplotlib.figure.Figure at 0xeadc240>"
      ]
     },
     "metadata": {},
     "output_type": "display_data"
    }
   ],
   "source": [
    "y = bike_data['casual']\n",
    "x_sets = (\n",
    "    ['temp'],\n",
    "    ['atemp'],\n",
    "    ['temp', 'atemp'],\n",
    ")\n",
    "\n",
    "for x in x_sets:\n",
    "    print 'Model: casual ~ ' + ' + '.join(x)\n",
    "    get_linear_model_metrics(bike_data[x], y, linear_model.LinearRegression())\n",
    "    print"
   ]
  },
  {
   "cell_type": "markdown",
   "metadata": {},
   "source": [
    "###  Intrepretation?"
   ]
  },
  {
   "cell_type": "markdown",
   "metadata": {},
   "source": [
    "Answer: Both variables have roughly similar coefficients when modelled on their own, but when combined this changes drastically."
   ]
  },
  {
   "cell_type": "markdown",
   "metadata": {},
   "source": [
    "### What happens if we use a second variable that isn't highly correlated with temperature, like humidity?\n"
   ]
  },
  {
   "cell_type": "code",
   "execution_count": 31,
   "metadata": {
    "collapsed": false
   },
   "outputs": [
    {
     "name": "stdout",
     "output_type": "stream",
     "text": [
      "Axes(0.125,0.125;0.62x0.775)\n",
      "P Values: [ 0.  0.]\n",
      "Coefficients: [ 112.02457031  -80.87301833]\n",
      "y-intercept: 30.7273338581\n",
      "R-Squared: 0.310901196913\n"
     ]
    },
    {
     "data": {
      "text/plain": [
       "LinearRegression(copy_X=True, fit_intercept=True, n_jobs=1, normalize=False)"
      ]
     },
     "execution_count": 31,
     "metadata": {},
     "output_type": "execute_result"
    },
    {
     "data": {
      "image/png": "[encoded data removed]",
      "text/plain": [
       "<matplotlib.figure.Figure at 0xd899198>"
      ]
     },
     "metadata": {},
     "output_type": "display_data"
    },
    {
     "data": {
      "image/png": "[encoded data removed]",
      "text/plain": [
       "<matplotlib.figure.Figure at 0xd3f6080>"
      ]
     },
     "metadata": {},
     "output_type": "display_data"
    }
   ],
   "source": [
    "print sns.heatmap(bike_data[['temp', 'hum', 'casual']].corr(),\n",
    "                  cmap=colour_map)\n",
    "\n",
    "y = bike_data['casual']\n",
    "x = bike_data[['temp', 'hum']]\n",
    "get_linear_model_metrics(x, y, linear_model.LinearRegression())"
   ]
  },
  {
   "cell_type": "markdown",
   "metadata": {},
   "source": [
    "## Guided Practice: Multicollinearity with dummy variables"
   ]
  },
  {
   "cell_type": "markdown",
   "metadata": {},
   "source": [
    "There can be a similar effect from a feature set that is a singular matrix. This happens is when there is a clear relationship in the matrix (for example, the sum of all rows = 1).\n",
    "\n",
    "### Run through the following code on your own.\n",
    "#### What happens to the coefficients when you include all weather situations instead of just including all except one?"
   ]
  },
  {
   "cell_type": "code",
   "execution_count": 32,
   "metadata": {
    "collapsed": false
   },
   "outputs": [
    {
     "name": "stdout",
     "output_type": "stream",
     "text": [
      "     1    2    3    4\n",
      "0  1.0  0.0  0.0  0.0\n",
      "1  1.0  0.0  0.0  0.0\n",
      "2  1.0  0.0  0.0  0.0\n",
      "3  1.0  0.0  0.0  0.0\n",
      "4  1.0  0.0  0.0  0.0\n"
     ]
    },
    {
     "data": {
      "text/html": [
       "<div>\n",
       "<table border=\"1\" class=\"dataframe\">\n",
       "  <thead>\n",
       "    <tr style=\"text-align: right;\">\n",
       "      <th></th>\n",
       "      <th>instant</th>\n",
       "      <th>dteday</th>\n",
       "      <th>season</th>\n",
       "      <th>yr</th>\n",
       "      <th>mnth</th>\n",
       "      <th>hr</th>\n",
       "      <th>holiday</th>\n",
       "      <th>weekday</th>\n",
       "      <th>workingday</th>\n",
       "      <th>weathersit</th>\n",
       "      <th>temp</th>\n",
       "      <th>atemp</th>\n",
       "      <th>hum</th>\n",
       "      <th>windspeed</th>\n",
       "      <th>casual</th>\n",
       "      <th>registered</th>\n",
       "      <th>cnt</th>\n",
       "    </tr>\n",
       "  </thead>\n",
       "  <tbody>\n",
       "    <tr>\n",
       "      <th>0</th>\n",
       "      <td>1</td>\n",
       "      <td>2011-01-01</td>\n",
       "      <td>1</td>\n",
       "      <td>0</td>\n",
       "      <td>1</td>\n",
       "      <td>0</td>\n",
       "      <td>0</td>\n",
       "      <td>6</td>\n",
       "      <td>0</td>\n",
       "      <td>1</td>\n",
       "      <td>0.24</td>\n",
       "      <td>0.2879</td>\n",
       "      <td>0.81</td>\n",
       "      <td>0.0</td>\n",
       "      <td>3</td>\n",
       "      <td>13</td>\n",
       "      <td>16</td>\n",
       "    </tr>\n",
       "    <tr>\n",
       "      <th>1</th>\n",
       "      <td>2</td>\n",
       "      <td>2011-01-01</td>\n",
       "      <td>1</td>\n",
       "      <td>0</td>\n",
       "      <td>1</td>\n",
       "      <td>1</td>\n",
       "      <td>0</td>\n",
       "      <td>6</td>\n",
       "      <td>0</td>\n",
       "      <td>1</td>\n",
       "      <td>0.22</td>\n",
       "      <td>0.2727</td>\n",
       "      <td>0.80</td>\n",
       "      <td>0.0</td>\n",
       "      <td>8</td>\n",
       "      <td>32</td>\n",
       "      <td>40</td>\n",
       "    </tr>\n",
       "    <tr>\n",
       "      <th>2</th>\n",
       "      <td>3</td>\n",
       "      <td>2011-01-01</td>\n",
       "      <td>1</td>\n",
       "      <td>0</td>\n",
       "      <td>1</td>\n",
       "      <td>2</td>\n",
       "      <td>0</td>\n",
       "      <td>6</td>\n",
       "      <td>0</td>\n",
       "      <td>1</td>\n",
       "      <td>0.22</td>\n",
       "      <td>0.2727</td>\n",
       "      <td>0.80</td>\n",
       "      <td>0.0</td>\n",
       "      <td>5</td>\n",
       "      <td>27</td>\n",
       "      <td>32</td>\n",
       "    </tr>\n",
       "    <tr>\n",
       "      <th>3</th>\n",
       "      <td>4</td>\n",
       "      <td>2011-01-01</td>\n",
       "      <td>1</td>\n",
       "      <td>0</td>\n",
       "      <td>1</td>\n",
       "      <td>3</td>\n",
       "      <td>0</td>\n",
       "      <td>6</td>\n",
       "      <td>0</td>\n",
       "      <td>1</td>\n",
       "      <td>0.24</td>\n",
       "      <td>0.2879</td>\n",
       "      <td>0.75</td>\n",
       "      <td>0.0</td>\n",
       "      <td>3</td>\n",
       "      <td>10</td>\n",
       "      <td>13</td>\n",
       "    </tr>\n",
       "    <tr>\n",
       "      <th>4</th>\n",
       "      <td>5</td>\n",
       "      <td>2011-01-01</td>\n",
       "      <td>1</td>\n",
       "      <td>0</td>\n",
       "      <td>1</td>\n",
       "      <td>4</td>\n",
       "      <td>0</td>\n",
       "      <td>6</td>\n",
       "      <td>0</td>\n",
       "      <td>1</td>\n",
       "      <td>0.24</td>\n",
       "      <td>0.2879</td>\n",
       "      <td>0.75</td>\n",
       "      <td>0.0</td>\n",
       "      <td>0</td>\n",
       "      <td>1</td>\n",
       "      <td>1</td>\n",
       "    </tr>\n",
       "  </tbody>\n",
       "</table>\n",
       "</div>"
      ],
      "text/plain": [
       "   instant      dteday  season  yr  mnth  hr  holiday  weekday  workingday  \\\n",
       "0        1  2011-01-01       1   0     1   0        0        6           0   \n",
       "1        2  2011-01-01       1   0     1   1        0        6           0   \n",
       "2        3  2011-01-01       1   0     1   2        0        6           0   \n",
       "3        4  2011-01-01       1   0     1   3        0        6           0   \n",
       "4        5  2011-01-01       1   0     1   4        0        6           0   \n",
       "\n",
       "   weathersit  temp   atemp   hum  windspeed  casual  registered  cnt  \n",
       "0           1  0.24  0.2879  0.81        0.0       3          13   16  \n",
       "1           1  0.22  0.2727  0.80        0.0       8          32   40  \n",
       "2           1  0.22  0.2727  0.80        0.0       5          27   32  \n",
       "3           1  0.24  0.2879  0.75        0.0       3          10   13  \n",
       "4           1  0.24  0.2879  0.75        0.0       0           1    1  "
      ]
     },
     "execution_count": 32,
     "metadata": {},
     "output_type": "execute_result"
    }
   ],
   "source": [
    "# From https://archive.ics.uci.edu/ml/datasets/Bike+Sharing+Dataset\n",
    "# weathersit : \n",
    "# - 1: Clear, Few clouds, Partly cloudy, Partly cloudy\n",
    "# - 2: Mist + Cloudy, Mist + Broken clouds, Mist + Few clouds, Mist\n",
    "# - 3: Light Snow, Light Rain + Thunderstorm + Scattered clouds, Light Rain + Scattered clouds\n",
    "# - 4: Heavy Rain + Ice Pallets + Thunderstorm + Mist, Snow + Fog\n",
    "weather = pd.get_dummies(bike_data.weathersit)\n",
    "print weather.head()\n",
    "bike_data.head()"
   ]
  },
  {
   "cell_type": "code",
   "execution_count": 33,
   "metadata": {
    "collapsed": false
   },
   "outputs": [
    {
     "name": "stdout",
     "output_type": "stream",
     "text": [
      "P Values: [  3.75616929e-73   3.43170021e-22   1.57718666e-55   2.46181288e-01]\n",
      "Coefficients: [  2.34550988e+13   2.34550988e+13   2.34550988e+13   2.34550988e+13]\n",
      "y-intercept: -2.34550987861e+13\n",
      "R-Squared: 0.0233354132913\n"
     ]
    },
    {
     "data": {
      "text/plain": [
       "LinearRegression(copy_X=True, fit_intercept=True, n_jobs=1, normalize=False)"
      ]
     },
     "execution_count": 33,
     "metadata": {},
     "output_type": "execute_result"
    },
    {
     "data": {
      "image/png": "[encoded data removed]",
      "text/plain": [
       "<matplotlib.figure.Figure at 0x10813588>"
      ]
     },
     "metadata": {},
     "output_type": "display_data"
    }
   ],
   "source": [
    "# Model casual by all weather situations as dummy variables\n",
    "lm = linear_model.LinearRegression()\n",
    "get_linear_model_metrics(weather[[1, 2, 3, 4]], y, lm)"
   ]
  },
  {
   "cell_type": "code",
   "execution_count": 34,
   "metadata": {
    "collapsed": false
   },
   "outputs": [
    {
     "name": "stdout",
     "output_type": "stream",
     "text": [
      "P Values: [  3.75616929e-73   3.43170021e-22   1.57718666e-55]\n",
      "Coefficients: [ 37.87876398  26.92862383  13.38900634]\n",
      "y-intercept: 2.66666666663\n",
      "R-Squared: 0.0233906873841\n"
     ]
    },
    {
     "data": {
      "text/plain": [
       "LinearRegression(copy_X=True, fit_intercept=True, n_jobs=1, normalize=False)"
      ]
     },
     "execution_count": 34,
     "metadata": {},
     "output_type": "execute_result"
    },
    {
     "data": {
      "image/png": "[encoded data removed]",
      "text/plain": [
       "<matplotlib.figure.Figure at 0xb9f0198>"
      ]
     },
     "metadata": {},
     "output_type": "display_data"
    }
   ],
   "source": [
    "# Drop the least significant: weather situation  = 4\n",
    "get_linear_model_metrics(weather[[1, 2, 3]], y, lm)"
   ]
  },
  {
   "cell_type": "markdown",
   "metadata": {},
   "source": [
    "### Similar in Statsmodels"
   ]
  },
  {
   "cell_type": "code",
   "execution_count": 35,
   "metadata": {
    "collapsed": false
   },
   "outputs": [
    {
     "data": {
      "text/html": [
       "<table class=\"simpletable\">\n",
       "<caption>OLS Regression Results</caption>\n",
       "<tr>\n",
       "  <th>Dep. Variable:</th>            <td>y</td>        <th>  R-squared:         </th> <td>   0.023</td> \n",
       "</tr>\n",
       "<tr>\n",
       "  <th>Model:</th>                   <td>OLS</td>       <th>  Adj. R-squared:    </th> <td>   0.023</td> \n",
       "</tr>\n",
       "<tr>\n",
       "  <th>Method:</th>             <td>Least Squares</td>  <th>  F-statistic:       </th> <td>   104.0</td> \n",
       "</tr>\n",
       "<tr>\n",
       "  <th>Date:</th>             <td>Mon, 19 Sep 2016</td> <th>  Prob (F-statistic):</th> <td>1.13e-87</td> \n",
       "</tr>\n",
       "<tr>\n",
       "  <th>Time:</th>                 <td>12:43:58</td>     <th>  Log-Likelihood:    </th> <td> -92197.</td> \n",
       "</tr>\n",
       "<tr>\n",
       "  <th>No. Observations:</th>      <td> 17379</td>      <th>  AIC:               </th> <td>1.844e+05</td>\n",
       "</tr>\n",
       "<tr>\n",
       "  <th>Df Residuals:</th>          <td> 17374</td>      <th>  BIC:               </th> <td>1.844e+05</td>\n",
       "</tr>\n",
       "<tr>\n",
       "  <th>Df Model:</th>              <td>     4</td>      <th>                     </th>     <td> </td>    \n",
       "</tr>\n",
       "<tr>\n",
       "  <th>Covariance Type:</th>      <td>nonrobust</td>    <th>                     </th>     <td> </td>    \n",
       "</tr>\n",
       "</table>\n",
       "<table class=\"simpletable\">\n",
       "<tr>\n",
       "              <td></td>                <th>coef</th>     <th>std err</th>      <th>t</th>      <th>P>|t|</th> <th>[95.0% Conf. Int.]</th> \n",
       "</tr>\n",
       "<tr>\n",
       "  <th>Intercept</th>                <td>-3.319e+12</td> <td> 5.17e+13</td> <td>   -0.064</td> <td> 0.949</td> <td>-1.05e+14  9.79e+13</td>\n",
       "</tr>\n",
       "<tr>\n",
       "  <th>weather[[1, 2, 3, 4]][0]</th> <td> 3.319e+12</td> <td> 5.17e+13</td> <td>    0.064</td> <td> 0.949</td> <td>-9.79e+13  1.05e+14</td>\n",
       "</tr>\n",
       "<tr>\n",
       "  <th>weather[[1, 2, 3, 4]][1]</th> <td> 3.319e+12</td> <td> 5.17e+13</td> <td>    0.064</td> <td> 0.949</td> <td>-9.79e+13  1.05e+14</td>\n",
       "</tr>\n",
       "<tr>\n",
       "  <th>weather[[1, 2, 3, 4]][2]</th> <td> 3.319e+12</td> <td> 5.17e+13</td> <td>    0.064</td> <td> 0.949</td> <td>-9.79e+13  1.05e+14</td>\n",
       "</tr>\n",
       "<tr>\n",
       "  <th>weather[[1, 2, 3, 4]][3]</th> <td> 3.319e+12</td> <td> 5.17e+13</td> <td>    0.064</td> <td> 0.949</td> <td>-9.79e+13  1.05e+14</td>\n",
       "</tr>\n",
       "</table>\n",
       "<table class=\"simpletable\">\n",
       "<tr>\n",
       "  <th>Omnibus:</th>       <td>8995.399</td> <th>  Durbin-Watson:     </th> <td>   0.137</td> \n",
       "</tr>\n",
       "<tr>\n",
       "  <th>Prob(Omnibus):</th>  <td> 0.000</td>  <th>  Jarque-Bera (JB):  </th> <td>58868.810</td>\n",
       "</tr>\n",
       "<tr>\n",
       "  <th>Skew:</th>           <td> 2.467</td>  <th>  Prob(JB):          </th> <td>    0.00</td> \n",
       "</tr>\n",
       "<tr>\n",
       "  <th>Kurtosis:</th>       <td>10.547</td>  <th>  Cond. No.          </th> <td>3.88e+14</td> \n",
       "</tr>\n",
       "</table>"
      ],
      "text/plain": [
       "<class 'statsmodels.iolib.summary.Summary'>\n",
       "\"\"\"\n",
       "                            OLS Regression Results                            \n",
       "==============================================================================\n",
       "Dep. Variable:                      y   R-squared:                       0.023\n",
       "Model:                            OLS   Adj. R-squared:                  0.023\n",
       "Method:                 Least Squares   F-statistic:                     104.0\n",
       "Date:                Mon, 19 Sep 2016   Prob (F-statistic):           1.13e-87\n",
       "Time:                        12:43:58   Log-Likelihood:                -92197.\n",
       "No. Observations:               17379   AIC:                         1.844e+05\n",
       "Df Residuals:                   17374   BIC:                         1.844e+05\n",
       "Df Model:                           4                                         \n",
       "Covariance Type:            nonrobust                                         \n",
       "============================================================================================\n",
       "                               coef    std err          t      P>|t|      [95.0% Conf. Int.]\n",
       "--------------------------------------------------------------------------------------------\n",
       "Intercept                -3.319e+12   5.17e+13     -0.064      0.949     -1.05e+14  9.79e+13\n",
       "weather[[1, 2, 3, 4]][0]  3.319e+12   5.17e+13      0.064      0.949     -9.79e+13  1.05e+14\n",
       "weather[[1, 2, 3, 4]][1]  3.319e+12   5.17e+13      0.064      0.949     -9.79e+13  1.05e+14\n",
       "weather[[1, 2, 3, 4]][2]  3.319e+12   5.17e+13      0.064      0.949     -9.79e+13  1.05e+14\n",
       "weather[[1, 2, 3, 4]][3]  3.319e+12   5.17e+13      0.064      0.949     -9.79e+13  1.05e+14\n",
       "==============================================================================\n",
       "Omnibus:                     8995.399   Durbin-Watson:                   0.137\n",
       "Prob(Omnibus):                  0.000   Jarque-Bera (JB):            58868.810\n",
       "Skew:                           2.467   Prob(JB):                         0.00\n",
       "Kurtosis:                      10.547   Cond. No.                     3.88e+14\n",
       "==============================================================================\n",
       "\n",
       "Warnings:\n",
       "[1] Standard Errors assume that the covariance matrix of the errors is correctly specified.\n",
       "[2] The smallest eigenvalue is 1.78e-25. This might indicate that there are\n",
       "strong multicollinearity problems or that the design matrix is singular.\n",
       "\"\"\""
      ]
     },
     "execution_count": 35,
     "metadata": {},
     "output_type": "execute_result"
    }
   ],
   "source": [
    "# All dummies in the model\n",
    "lm_stats = smf.ols(formula='y ~ weather[[1, 2, 3, 4]]', data=bike_data).fit()\n",
    "lm_stats.summary()"
   ]
  },
  {
   "cell_type": "code",
   "execution_count": 36,
   "metadata": {
    "collapsed": false
   },
   "outputs": [
    {
     "data": {
      "text/html": [
       "<table class=\"simpletable\">\n",
       "<caption>OLS Regression Results</caption>\n",
       "<tr>\n",
       "  <th>Dep. Variable:</th>            <td>y</td>        <th>  R-squared:         </th> <td>   0.023</td> \n",
       "</tr>\n",
       "<tr>\n",
       "  <th>Model:</th>                   <td>OLS</td>       <th>  Adj. R-squared:    </th> <td>   0.023</td> \n",
       "</tr>\n",
       "<tr>\n",
       "  <th>Method:</th>             <td>Least Squares</td>  <th>  F-statistic:       </th> <td>   138.7</td> \n",
       "</tr>\n",
       "<tr>\n",
       "  <th>Date:</th>             <td>Mon, 19 Sep 2016</td> <th>  Prob (F-statistic):</th> <td>8.08e-89</td> \n",
       "</tr>\n",
       "<tr>\n",
       "  <th>Time:</th>                 <td>12:43:59</td>     <th>  Log-Likelihood:    </th> <td> -92197.</td> \n",
       "</tr>\n",
       "<tr>\n",
       "  <th>No. Observations:</th>      <td> 17379</td>      <th>  AIC:               </th> <td>1.844e+05</td>\n",
       "</tr>\n",
       "<tr>\n",
       "  <th>Df Residuals:</th>          <td> 17375</td>      <th>  BIC:               </th> <td>1.844e+05</td>\n",
       "</tr>\n",
       "<tr>\n",
       "  <th>Df Model:</th>              <td>     3</td>      <th>                     </th>     <td> </td>    \n",
       "</tr>\n",
       "<tr>\n",
       "  <th>Covariance Type:</th>      <td>nonrobust</td>    <th>                     </th>     <td> </td>    \n",
       "</tr>\n",
       "</table>\n",
       "<table class=\"simpletable\">\n",
       "<tr>\n",
       "            <td></td>               <th>coef</th>     <th>std err</th>      <th>t</th>      <th>P>|t|</th> <th>[95.0% Conf. Int.]</th> \n",
       "</tr>\n",
       "<tr>\n",
       "  <th>Intercept</th>             <td>    2.6667</td> <td>   28.134</td> <td>    0.095</td> <td> 0.924</td> <td>  -52.478    57.812</td>\n",
       "</tr>\n",
       "<tr>\n",
       "  <th>weather[[1, 2, 3]][0]</th> <td>   37.8788</td> <td>   28.138</td> <td>    1.346</td> <td> 0.178</td> <td>  -17.274    93.031</td>\n",
       "</tr>\n",
       "<tr>\n",
       "  <th>weather[[1, 2, 3]][1]</th> <td>   26.9286</td> <td>   28.143</td> <td>    0.957</td> <td> 0.339</td> <td>  -28.235    82.092</td>\n",
       "</tr>\n",
       "<tr>\n",
       "  <th>weather[[1, 2, 3]][2]</th> <td>   13.3890</td> <td>   28.164</td> <td>    0.475</td> <td> 0.635</td> <td>  -41.814    68.592</td>\n",
       "</tr>\n",
       "</table>\n",
       "<table class=\"simpletable\">\n",
       "<tr>\n",
       "  <th>Omnibus:</th>       <td>9001.632</td> <th>  Durbin-Watson:     </th> <td>   0.136</td> \n",
       "</tr>\n",
       "<tr>\n",
       "  <th>Prob(Omnibus):</th>  <td> 0.000</td>  <th>  Jarque-Bera (JB):  </th> <td>58962.554</td>\n",
       "</tr>\n",
       "<tr>\n",
       "  <th>Skew:</th>           <td> 2.468</td>  <th>  Prob(JB):          </th> <td>    0.00</td> \n",
       "</tr>\n",
       "<tr>\n",
       "  <th>Kurtosis:</th>       <td>10.553</td>  <th>  Cond. No.          </th> <td>    189.</td> \n",
       "</tr>\n",
       "</table>"
      ],
      "text/plain": [
       "<class 'statsmodels.iolib.summary.Summary'>\n",
       "\"\"\"\n",
       "                            OLS Regression Results                            \n",
       "==============================================================================\n",
       "Dep. Variable:                      y   R-squared:                       0.023\n",
       "Model:                            OLS   Adj. R-squared:                  0.023\n",
       "Method:                 Least Squares   F-statistic:                     138.7\n",
       "Date:                Mon, 19 Sep 2016   Prob (F-statistic):           8.08e-89\n",
       "Time:                        12:43:59   Log-Likelihood:                -92197.\n",
       "No. Observations:               17379   AIC:                         1.844e+05\n",
       "Df Residuals:                   17375   BIC:                         1.844e+05\n",
       "Df Model:                           3                                         \n",
       "Covariance Type:            nonrobust                                         \n",
       "=========================================================================================\n",
       "                            coef    std err          t      P>|t|      [95.0% Conf. Int.]\n",
       "-----------------------------------------------------------------------------------------\n",
       "Intercept                 2.6667     28.134      0.095      0.924       -52.478    57.812\n",
       "weather[[1, 2, 3]][0]    37.8788     28.138      1.346      0.178       -17.274    93.031\n",
       "weather[[1, 2, 3]][1]    26.9286     28.143      0.957      0.339       -28.235    82.092\n",
       "weather[[1, 2, 3]][2]    13.3890     28.164      0.475      0.635       -41.814    68.592\n",
       "==============================================================================\n",
       "Omnibus:                     9001.632   Durbin-Watson:                   0.136\n",
       "Prob(Omnibus):                  0.000   Jarque-Bera (JB):            58962.554\n",
       "Skew:                           2.468   Prob(JB):                         0.00\n",
       "Kurtosis:                      10.553   Cond. No.                         189.\n",
       "==============================================================================\n",
       "\n",
       "Warnings:\n",
       "[1] Standard Errors assume that the covariance matrix of the errors is correctly specified.\n",
       "\"\"\""
      ]
     },
     "execution_count": 36,
     "metadata": {},
     "output_type": "execute_result"
    }
   ],
   "source": [
    "# Drop one\n",
    "lm_stats = smf.ols(formula='y ~ weather[[1, 2, 3]]', data=bike_data).fit()\n",
    "lm_stats.summary()"
   ]
  },
  {
   "cell_type": "markdown",
   "metadata": {},
   "source": [
    "### What's the interpretation ? Do you want to keep all your dummy variables or drop one? Why? \n",
    "\n",
    "\n"
   ]
  },
  {
   "cell_type": "markdown",
   "metadata": {},
   "source": [
    "Answer: Drop one - otherwise the coefficients make no sense."
   ]
  },
  {
   "cell_type": "markdown",
   "metadata": {},
   "source": [
    "## Guided Practice: Combining non-correlated features into a better model"
   ]
  },
  {
   "cell_type": "code",
   "execution_count": 37,
   "metadata": {
    "collapsed": false
   },
   "outputs": [
    {
     "data": {
      "text/plain": [
       "instant         int64\n",
       "dteday         object\n",
       "season          int64\n",
       "yr              int64\n",
       "mnth            int64\n",
       "hr              int64\n",
       "holiday         int64\n",
       "weekday         int64\n",
       "workingday      int64\n",
       "weathersit      int64\n",
       "temp          float64\n",
       "atemp         float64\n",
       "hum           float64\n",
       "windspeed     float64\n",
       "casual          int64\n",
       "registered      int64\n",
       "cnt             int64\n",
       "dtype: object"
      ]
     },
     "execution_count": 37,
     "metadata": {},
     "output_type": "execute_result"
    }
   ],
   "source": [
    "bike_data.dtypes"
   ]
  },
  {
   "cell_type": "markdown",
   "metadata": {},
   "source": [
    "## With a partner, complete this code together and visualize the correlations of all the numerical features built into the data set.\n",
    "\n",
    "We want to:\n",
    "\n",
    "- Add the three significant weather situations into our current model.\n",
    "- Find two more features that are not correlated with current features, but could be strong indicators for predicting guest riders."
   ]
  },
  {
   "cell_type": "code",
   "execution_count": 38,
   "metadata": {
    "collapsed": false
   },
   "outputs": [],
   "source": [
    "lm = linear_model.LinearRegression()\n",
    "\n",
    "bikemodel_data = bike_data.join(weather)\n",
    "for i in range(0,5,1):\n",
    "    bikemodel_data.rename(columns={i:'weather'+str(i)},inplace=True)\n",
    "    \n",
    "hours = pd.get_dummies(bikemodel_data.hr,prefix='hour',prefix_sep='_')\n",
    "bikemodel_data =bikemodel_data.join(hours)\n",
    "\n",
    "seasons = pd.get_dummies(bikemodel_data.season,prefix='season',prefix_sep='_')\n",
    "bikemodel_data =bikemodel_data.join(seasons)"
   ]
  },
  {
   "cell_type": "code",
   "execution_count": 40,
   "metadata": {
    "collapsed": false
   },
   "outputs": [
    {
     "name": "stdout",
     "output_type": "stream",
     "text": [
      "Axes(0.125,0.125;0.62x0.775)\n"
     ]
    },
    {
     "data": {
      "image/png": "[encoded data removed]",
      "text/plain": [
       "<matplotlib.figure.Figure at 0xf009940>"
      ]
     },
     "metadata": {},
     "output_type": "display_data"
    }
   ],
   "source": [
    "columns =  ['hum','windspeed','holiday','temp','weather1','weather2','weather3','season_1','season_2','season_3','season_4']\n",
    "columns.extend(['hour_' + str(i) for i in range(1, 24)])\n",
    "correlations = bikemodel_data[columns].corr()\n",
    "\n",
    "# print correlations\n",
    "colour_map = sns.diverging_palette(220, 10, as_cmap=True)\n",
    "plt.figure(figsize=(18, 12))\n",
    "print sns.heatmap(correlations, cmap=colour_map)"
   ]
  },
  {
   "cell_type": "code",
   "execution_count": 41,
   "metadata": {
    "collapsed": false
   },
   "outputs": [
    {
     "name": "stdout",
     "output_type": "stream",
     "text": [
      "P Values: [  0.00000000e+000   8.66781628e-033   3.15814032e-005   0.00000000e+000\n",
      "   3.75616929e-073   3.43170021e-022   1.57718666e-055   7.90819136e-239\n",
      "   1.70941845e-060   1.20544330e-119   2.84549156e-014   6.64996464e-060\n",
      "   3.26347943e-066   3.30809960e-073   9.64851198e-080   2.34162115e-081\n",
      "   8.63420127e-070   2.84021955e-043   5.03259555e-015   7.51024245e-003\n",
      "   1.56865913e-009   9.55402696e-041   5.42563140e-075   1.83858247e-094\n",
      "   6.55214084e-112   3.08895832e-108   4.17937513e-102   6.03744699e-105\n",
      "   3.54290569e-046   2.37080976e-013   7.55377998e-001   3.33118416e-005\n",
      "   5.89308930e-014   1.88193460e-030]\n",
      "Coefficients: [ -2.86540603e+01  -1.55382627e+01   1.17386499e+01   8.49164638e+01\n",
      "   3.39317046e+00  -9.22094786e-01  -1.00211685e+01  -2.15122676e+13\n",
      "  -2.15122676e+13  -2.15122676e+13  -2.15122676e+13  -2.63365549e+00\n",
      "  -3.67521700e+00  -5.26189407e+00  -5.74309911e+00  -4.75118291e+00\n",
      "  -1.33491678e+00   4.99257132e+00   1.35186720e+01   1.99538471e+01\n",
      "   3.22716722e+01   4.21754798e+01   4.87048577e+01   5.07826496e+01\n",
      "   5.28961598e+01   5.18304203e+01   5.10143760e+01   5.29836163e+01\n",
      "   4.13977570e+01   3.11340924e+01   2.05657398e+01   1.42555556e+01\n",
      "   9.68916034e+00   4.12174811e+00]\n",
      "y-intercept: 2.15122676105e+13\n",
      "R-Squared: 0.462813904423\n"
     ]
    },
    {
     "data": {
      "text/plain": [
       "LinearRegression(copy_X=True, fit_intercept=True, n_jobs=1, normalize=False)"
      ]
     },
     "execution_count": 41,
     "metadata": {},
     "output_type": "execute_result"
    },
    {
     "data": {
      "image/png": "[encoded data removed]",
      "text/plain": [
       "<matplotlib.figure.Figure at 0xee3d0b8>"
      ]
     },
     "metadata": {},
     "output_type": "display_data"
    }
   ],
   "source": [
    "final_feature_set = bikemodel_data[columns]\n",
    "get_linear_model_metrics(final_feature_set, y, lm)"
   ]
  },
  {
   "cell_type": "code",
   "execution_count": 42,
   "metadata": {
    "collapsed": false
   },
   "outputs": [
    {
     "name": "stdout",
     "output_type": "stream",
     "text": [
      "P Values: [  0.00000000e+000   6.25145011e-042   2.20669338e-002   0.00000000e+000\n",
      "   1.57667763e-073   4.65438461e-010   3.08091550e-101   0.00000000e+000\n",
      "   4.09177553e-070   2.13015145e-199   3.09839675e-007   1.25728221e-104\n",
      "   3.16654620e-163   4.43205469e-255   0.00000000e+000   3.66634752e-318\n",
      "   3.16291935e-139   3.91327381e-023   9.32021985e-003   9.53413879e-015\n",
      "   4.01378046e-040   4.59689993e-069   1.30604357e-088   2.17178403e-095\n",
      "   4.76632477e-102   2.13478631e-102   1.40997159e-103   2.82538157e-111\n",
      "   4.92524377e-072   3.32332548e-040   8.58150979e-015   8.05106387e-005\n",
      "   8.94334883e-001   3.52782886e-010]\n",
      "Coefficients: [ -2.36744703e-01  -1.89831579e-01   1.05366491e-01   1.23032638e+00\n",
      "   2.39629374e-01   2.02811464e-01  -6.01911795e-02  -1.10036158e+12\n",
      "  -1.10036158e+12  -1.10036158e+12  -1.10036158e+12  -1.72864592e-01\n",
      "  -2.96378435e-01  -4.60206358e-01  -5.68344669e-01  -5.15059186e-01\n",
      "  -2.06862330e-01   1.43048919e-01   4.08315090e-01   4.94943672e-01\n",
      "   5.84202129e-01   6.45322841e-01   6.75498635e-01   6.70625519e-01\n",
      "   6.74044244e-01   6.70897309e-01   6.79432091e-01   7.16778862e-01\n",
      "   6.31886987e-01   5.45834693e-01   4.42592297e-01   3.70258253e-01\n",
      "   2.91090056e-01   1.67243927e-01]\n",
      "y-intercept: 1.10036158281e+12\n",
      "R-Squared: 0.763081314896\n"
     ]
    },
    {
     "data": {
      "text/plain": [
       "LinearRegression(copy_X=True, fit_intercept=True, n_jobs=1, normalize=False)"
      ]
     },
     "execution_count": 42,
     "metadata": {},
     "output_type": "execute_result"
    },
    {
     "data": {
      "image/png": "[encoded data removed]",
      "text/plain": [
       "<matplotlib.figure.Figure at 0xed46e48>"
      ]
     },
     "metadata": {},
     "output_type": "display_data"
    }
   ],
   "source": [
    "# Using sklearn + log-transformed y\n",
    "final_feature_set = bikemodel_data[columns]\n",
    "get_linear_model_metrics(final_feature_set, np.log10(y + 1), lm)"
   ]
  },
  {
   "cell_type": "code",
   "execution_count": 43,
   "metadata": {
    "collapsed": false
   },
   "outputs": [
    {
     "data": {
      "text/html": [
       "<table class=\"simpletable\">\n",
       "<caption>OLS Regression Results</caption>\n",
       "<tr>\n",
       "  <th>Dep. Variable:</th>          <td>log_y</td>      <th>  R-squared:         </th> <td>   0.722</td> \n",
       "</tr>\n",
       "<tr>\n",
       "  <th>Model:</th>                   <td>OLS</td>       <th>  Adj. R-squared:    </th> <td>   0.721</td> \n",
       "</tr>\n",
       "<tr>\n",
       "  <th>Method:</th>             <td>Least Squares</td>  <th>  F-statistic:       </th> <td>   1551.</td> \n",
       "</tr>\n",
       "<tr>\n",
       "  <th>Date:</th>             <td>Mon, 19 Sep 2016</td> <th>  Prob (F-statistic):</th>  <td>  0.00</td>  \n",
       "</tr>\n",
       "<tr>\n",
       "  <th>Time:</th>                 <td>12:44:11</td>     <th>  Log-Likelihood:    </th> <td> -5982.5</td> \n",
       "</tr>\n",
       "<tr>\n",
       "  <th>No. Observations:</th>      <td> 17379</td>      <th>  AIC:               </th> <td>1.203e+04</td>\n",
       "</tr>\n",
       "<tr>\n",
       "  <th>Df Residuals:</th>          <td> 17349</td>      <th>  BIC:               </th> <td>1.226e+04</td>\n",
       "</tr>\n",
       "<tr>\n",
       "  <th>Df Model:</th>              <td>    29</td>      <th>                     </th>     <td> </td>    \n",
       "</tr>\n",
       "<tr>\n",
       "  <th>Covariance Type:</th>      <td>nonrobust</td>    <th>                     </th>     <td> </td>    \n",
       "</tr>\n",
       "</table>\n",
       "<table class=\"simpletable\">\n",
       "<tr>\n",
       "      <td></td>         <th>coef</th>     <th>std err</th>      <th>t</th>      <th>P>|t|</th> <th>[95.0% Conf. Int.]</th> \n",
       "</tr>\n",
       "<tr>\n",
       "  <th>Intercept</th> <td>    0.4766</td> <td>    0.198</td> <td>    2.402</td> <td> 0.016</td> <td>    0.088     0.865</td>\n",
       "</tr>\n",
       "<tr>\n",
       "  <th>temp</th>      <td>    1.4479</td> <td>    0.014</td> <td>  103.562</td> <td> 0.000</td> <td>    1.420     1.475</td>\n",
       "</tr>\n",
       "<tr>\n",
       "  <th>hum</th>       <td>   -0.2821</td> <td>    0.018</td> <td>  -16.055</td> <td> 0.000</td> <td>   -0.317    -0.248</td>\n",
       "</tr>\n",
       "<tr>\n",
       "  <th>windspeed</th> <td>   -0.1573</td> <td>    0.023</td> <td>   -6.937</td> <td> 0.000</td> <td>   -0.202    -0.113</td>\n",
       "</tr>\n",
       "<tr>\n",
       "  <th>weather1</th>  <td>    0.2877</td> <td>    0.198</td> <td>    1.456</td> <td> 0.145</td> <td>   -0.100     0.675</td>\n",
       "</tr>\n",
       "<tr>\n",
       "  <th>weather2</th>  <td>    0.2607</td> <td>    0.198</td> <td>    1.319</td> <td> 0.187</td> <td>   -0.127     0.648</td>\n",
       "</tr>\n",
       "<tr>\n",
       "  <th>weather3</th>  <td>    0.0200</td> <td>    0.198</td> <td>    0.101</td> <td> 0.919</td> <td>   -0.367     0.407</td>\n",
       "</tr>\n",
       "<tr>\n",
       "  <th>holiday</th>   <td>    0.0976</td> <td>    0.016</td> <td>    6.292</td> <td> 0.000</td> <td>    0.067     0.128</td>\n",
       "</tr>\n",
       "<tr>\n",
       "  <th>hour_1</th>    <td>   -0.5141</td> <td>    0.016</td> <td>  -32.806</td> <td> 0.000</td> <td>   -0.545    -0.483</td>\n",
       "</tr>\n",
       "<tr>\n",
       "  <th>hour_2</th>    <td>   -0.6339</td> <td>    0.016</td> <td>  -40.219</td> <td> 0.000</td> <td>   -0.665    -0.603</td>\n",
       "</tr>\n",
       "<tr>\n",
       "  <th>hour_3</th>    <td>   -0.7955</td> <td>    0.016</td> <td>  -49.960</td> <td> 0.000</td> <td>   -0.827    -0.764</td>\n",
       "</tr>\n",
       "<tr>\n",
       "  <th>hour_4</th>    <td>   -0.9012</td> <td>    0.016</td> <td>  -56.490</td> <td> 0.000</td> <td>   -0.933    -0.870</td>\n",
       "</tr>\n",
       "<tr>\n",
       "  <th>hour_5</th>    <td>   -0.8477</td> <td>    0.016</td> <td>  -53.561</td> <td> 0.000</td> <td>   -0.879    -0.817</td>\n",
       "</tr>\n",
       "<tr>\n",
       "  <th>hour_6</th>    <td>   -0.5403</td> <td>    0.016</td> <td>  -34.273</td> <td> 0.000</td> <td>   -0.571    -0.509</td>\n",
       "</tr>\n",
       "<tr>\n",
       "  <th>hour_7</th>    <td>   -0.1941</td> <td>    0.016</td> <td>  -12.363</td> <td> 0.000</td> <td>   -0.225    -0.163</td>\n",
       "</tr>\n",
       "<tr>\n",
       "  <th>hour_8</th>    <td>    0.0666</td> <td>    0.016</td> <td>    4.259</td> <td> 0.000</td> <td>    0.036     0.097</td>\n",
       "</tr>\n",
       "<tr>\n",
       "  <th>hour_9</th>    <td>    0.1457</td> <td>    0.016</td> <td>    9.360</td> <td> 0.000</td> <td>    0.115     0.176</td>\n",
       "</tr>\n",
       "<tr>\n",
       "  <th>hour_10</th>   <td>    0.2280</td> <td>    0.016</td> <td>   14.681</td> <td> 0.000</td> <td>    0.198     0.258</td>\n",
       "</tr>\n",
       "<tr>\n",
       "  <th>hour_11</th>   <td>    0.2823</td> <td>    0.016</td> <td>   18.166</td> <td> 0.000</td> <td>    0.252     0.313</td>\n",
       "</tr>\n",
       "<tr>\n",
       "  <th>hour_12</th>   <td>    0.3061</td> <td>    0.016</td> <td>   19.651</td> <td> 0.000</td> <td>    0.276     0.337</td>\n",
       "</tr>\n",
       "<tr>\n",
       "  <th>hour_13</th>   <td>    0.2966</td> <td>    0.016</td> <td>   18.997</td> <td> 0.000</td> <td>    0.266     0.327</td>\n",
       "</tr>\n",
       "<tr>\n",
       "  <th>hour_14</th>   <td>    0.2964</td> <td>    0.016</td> <td>   18.948</td> <td> 0.000</td> <td>    0.266     0.327</td>\n",
       "</tr>\n",
       "<tr>\n",
       "  <th>hour_15</th>   <td>    0.2925</td> <td>    0.016</td> <td>   18.682</td> <td> 0.000</td> <td>    0.262     0.323</td>\n",
       "</tr>\n",
       "<tr>\n",
       "  <th>hour_16</th>   <td>    0.3021</td> <td>    0.016</td> <td>   19.322</td> <td> 0.000</td> <td>    0.271     0.333</td>\n",
       "</tr>\n",
       "<tr>\n",
       "  <th>hour_18</th>   <td>    0.2624</td> <td>    0.016</td> <td>   16.859</td> <td> 0.000</td> <td>    0.232     0.293</td>\n",
       "</tr>\n",
       "<tr>\n",
       "  <th>hour_19</th>   <td>    0.1824</td> <td>    0.016</td> <td>   11.756</td> <td> 0.000</td> <td>    0.152     0.213</td>\n",
       "</tr>\n",
       "<tr>\n",
       "  <th>hour_20</th>   <td>    0.0846</td> <td>    0.016</td> <td>    5.452</td> <td> 0.000</td> <td>    0.054     0.115</td>\n",
       "</tr>\n",
       "<tr>\n",
       "  <th>hour_21</th>   <td>    0.0172</td> <td>    0.016</td> <td>    1.110</td> <td> 0.267</td> <td>   -0.013     0.048</td>\n",
       "</tr>\n",
       "<tr>\n",
       "  <th>hour_22</th>   <td>   -0.0582</td> <td>    0.016</td> <td>   -3.743</td> <td> 0.000</td> <td>   -0.089    -0.028</td>\n",
       "</tr>\n",
       "<tr>\n",
       "  <th>hour_23</th>   <td>   -0.1798</td> <td>    0.016</td> <td>  -11.547</td> <td> 0.000</td> <td>   -0.210    -0.149</td>\n",
       "</tr>\n",
       "</table>\n",
       "<table class=\"simpletable\">\n",
       "<tr>\n",
       "  <th>Omnibus:</th>       <td>97.694</td> <th>  Durbin-Watson:     </th> <td>   0.725</td>\n",
       "</tr>\n",
       "<tr>\n",
       "  <th>Prob(Omnibus):</th> <td> 0.000</td> <th>  Jarque-Bera (JB):  </th> <td> 103.920</td>\n",
       "</tr>\n",
       "<tr>\n",
       "  <th>Skew:</th>          <td>-0.157</td> <th>  Prob(JB):          </th> <td>2.72e-23</td>\n",
       "</tr>\n",
       "<tr>\n",
       "  <th>Kurtosis:</th>      <td> 3.211</td> <th>  Cond. No.          </th> <td>    229.</td>\n",
       "</tr>\n",
       "</table>"
      ],
      "text/plain": [
       "<class 'statsmodels.iolib.summary.Summary'>\n",
       "\"\"\"\n",
       "                            OLS Regression Results                            \n",
       "==============================================================================\n",
       "Dep. Variable:                  log_y   R-squared:                       0.722\n",
       "Model:                            OLS   Adj. R-squared:                  0.721\n",
       "Method:                 Least Squares   F-statistic:                     1551.\n",
       "Date:                Mon, 19 Sep 2016   Prob (F-statistic):               0.00\n",
       "Time:                        12:44:11   Log-Likelihood:                -5982.5\n",
       "No. Observations:               17379   AIC:                         1.203e+04\n",
       "Df Residuals:                   17349   BIC:                         1.226e+04\n",
       "Df Model:                          29                                         \n",
       "Covariance Type:            nonrobust                                         \n",
       "==============================================================================\n",
       "                 coef    std err          t      P>|t|      [95.0% Conf. Int.]\n",
       "------------------------------------------------------------------------------\n",
       "Intercept      0.4766      0.198      2.402      0.016         0.088     0.865\n",
       "temp           1.4479      0.014    103.562      0.000         1.420     1.475\n",
       "hum           -0.2821      0.018    -16.055      0.000        -0.317    -0.248\n",
       "windspeed     -0.1573      0.023     -6.937      0.000        -0.202    -0.113\n",
       "weather1       0.2877      0.198      1.456      0.145        -0.100     0.675\n",
       "weather2       0.2607      0.198      1.319      0.187        -0.127     0.648\n",
       "weather3       0.0200      0.198      0.101      0.919        -0.367     0.407\n",
       "holiday        0.0976      0.016      6.292      0.000         0.067     0.128\n",
       "hour_1        -0.5141      0.016    -32.806      0.000        -0.545    -0.483\n",
       "hour_2        -0.6339      0.016    -40.219      0.000        -0.665    -0.603\n",
       "hour_3        -0.7955      0.016    -49.960      0.000        -0.827    -0.764\n",
       "hour_4        -0.9012      0.016    -56.490      0.000        -0.933    -0.870\n",
       "hour_5        -0.8477      0.016    -53.561      0.000        -0.879    -0.817\n",
       "hour_6        -0.5403      0.016    -34.273      0.000        -0.571    -0.509\n",
       "hour_7        -0.1941      0.016    -12.363      0.000        -0.225    -0.163\n",
       "hour_8         0.0666      0.016      4.259      0.000         0.036     0.097\n",
       "hour_9         0.1457      0.016      9.360      0.000         0.115     0.176\n",
       "hour_10        0.2280      0.016     14.681      0.000         0.198     0.258\n",
       "hour_11        0.2823      0.016     18.166      0.000         0.252     0.313\n",
       "hour_12        0.3061      0.016     19.651      0.000         0.276     0.337\n",
       "hour_13        0.2966      0.016     18.997      0.000         0.266     0.327\n",
       "hour_14        0.2964      0.016     18.948      0.000         0.266     0.327\n",
       "hour_15        0.2925      0.016     18.682      0.000         0.262     0.323\n",
       "hour_16        0.3021      0.016     19.322      0.000         0.271     0.333\n",
       "hour_18        0.2624      0.016     16.859      0.000         0.232     0.293\n",
       "hour_19        0.1824      0.016     11.756      0.000         0.152     0.213\n",
       "hour_20        0.0846      0.016      5.452      0.000         0.054     0.115\n",
       "hour_21        0.0172      0.016      1.110      0.267        -0.013     0.048\n",
       "hour_22       -0.0582      0.016     -3.743      0.000        -0.089    -0.028\n",
       "hour_23       -0.1798      0.016    -11.547      0.000        -0.210    -0.149\n",
       "==============================================================================\n",
       "Omnibus:                       97.694   Durbin-Watson:                   0.725\n",
       "Prob(Omnibus):                  0.000   Jarque-Bera (JB):              103.920\n",
       "Skew:                          -0.157   Prob(JB):                     2.72e-23\n",
       "Kurtosis:                       3.211   Cond. No.                         229.\n",
       "==============================================================================\n",
       "\n",
       "Warnings:\n",
       "[1] Standard Errors assume that the covariance matrix of the errors is correctly specified.\n",
       "\"\"\""
      ]
     },
     "execution_count": 43,
     "metadata": {},
     "output_type": "execute_result"
    }
   ],
   "source": [
    "# Using Statsmodels + log-transformed y\n",
    "log_y = np.log10(y + 1)\n",
    "lm = smf.ols(formula='log_y ~ temp + hum + windspeed + weather1 + weather2 + weather3 + holiday + hour_1 + hour_2 + hour_3 \\\n",
    "             + hour_4 + hour_5 + hour_6 + hour_7 + hour_8 + hour_9 + hour_10 + hour_11 + hour_12 + hour_13 + hour_14 + \\\n",
    "             hour_15 + hour_16 + hour_18 + hour_19 + hour_20 + hour_21 + hour_22 + hour_23', data=bikemodel_data).fit()\n",
    "# Print the full summary\n",
    "lm.summary()"
   ]
  },
  {
   "cell_type": "markdown",
   "metadata": {},
   "source": [
    "## Independent Practice: Building models for other y variables\n",
    "\n",
    "We've completed a model together that explains casual guest riders. Now it's your turn to build another model, using a different y variable: registered riders.\n",
    "\n",
    "#### Pay attention to:\n",
    "\n",
    "* the distribution of riders (should we rescale the data?)\n",
    "* checking correlations with variables and registered riders\n",
    "* having a feature space (our matrix) with low multicollinearity\n",
    "* model complexity vs explanation of variance: at what point do features in a model stop improving r-squared?\n",
    "* the linear assumption -- given all feature values being 0, should we have no ridership? negative ridership? positive ridership?\n",
    "\n",
    "#### Bonus\n",
    "\n",
    "* Which variables would make sense to dummy (because they are categorical, not continuous)?\n",
    "* What features might explain ridership but aren't included in the data set?\n",
    "* Is there a way to build these using pandas and the features available?\n",
    "* Outcomes: If your model at least improves upon the original model and the explanatory effects (coefficients) make sense, consider this a complete task.\n",
    "\n",
    "### If your model for registered riders has an r-squared above .4, this a relatively effective model for the data available. Kudos!"
   ]
  },
  {
   "cell_type": "code",
   "execution_count": 44,
   "metadata": {
    "collapsed": false
   },
   "outputs": [
    {
     "data": {
      "text/plain": [
       "instant         int64\n",
       "dteday         object\n",
       "season          int64\n",
       "yr              int64\n",
       "mnth            int64\n",
       "hr              int64\n",
       "holiday         int64\n",
       "weekday         int64\n",
       "workingday      int64\n",
       "weathersit      int64\n",
       "temp          float64\n",
       "atemp         float64\n",
       "hum           float64\n",
       "windspeed     float64\n",
       "casual          int64\n",
       "registered      int64\n",
       "cnt             int64\n",
       "weather1      float64\n",
       "weather2      float64\n",
       "weather3      float64\n",
       "weather4      float64\n",
       "hour_0        float64\n",
       "hour_1        float64\n",
       "hour_2        float64\n",
       "hour_3        float64\n",
       "hour_4        float64\n",
       "hour_5        float64\n",
       "hour_6        float64\n",
       "hour_7        float64\n",
       "hour_8        float64\n",
       "hour_9        float64\n",
       "hour_10       float64\n",
       "hour_11       float64\n",
       "hour_12       float64\n",
       "hour_13       float64\n",
       "hour_14       float64\n",
       "hour_15       float64\n",
       "hour_16       float64\n",
       "hour_17       float64\n",
       "hour_18       float64\n",
       "hour_19       float64\n",
       "hour_20       float64\n",
       "hour_21       float64\n",
       "hour_22       float64\n",
       "hour_23       float64\n",
       "season_1      float64\n",
       "season_2      float64\n",
       "season_3      float64\n",
       "season_4      float64\n",
       "dtype: object"
      ]
     },
     "execution_count": 44,
     "metadata": {},
     "output_type": "execute_result"
    }
   ],
   "source": [
    "# Model away!\n",
    "bikemodel_data.dtypes"
   ]
  },
  {
   "cell_type": "code",
   "execution_count": 45,
   "metadata": {
    "collapsed": false
   },
   "outputs": [
    {
     "data": {
      "text/html": [
       "<table class=\"simpletable\">\n",
       "<caption>OLS Regression Results</caption>\n",
       "<tr>\n",
       "  <th>Dep. Variable:</th>       <td>registered</td>    <th>  R-squared:         </th>  <td>   0.513</td>  \n",
       "</tr>\n",
       "<tr>\n",
       "  <th>Model:</th>                   <td>OLS</td>       <th>  Adj. R-squared:    </th>  <td>   0.512</td>  \n",
       "</tr>\n",
       "<tr>\n",
       "  <th>Method:</th>             <td>Least Squares</td>  <th>  F-statistic:       </th>  <td>   793.4</td>  \n",
       "</tr>\n",
       "<tr>\n",
       "  <th>Date:</th>             <td>Mon, 19 Sep 2016</td> <th>  Prob (F-statistic):</th>   <td>  0.00</td>   \n",
       "</tr>\n",
       "<tr>\n",
       "  <th>Time:</th>                 <td>12:44:30</td>     <th>  Log-Likelihood:    </th> <td>-1.0565e+05</td>\n",
       "</tr>\n",
       "<tr>\n",
       "  <th>No. Observations:</th>      <td> 17379</td>      <th>  AIC:               </th>  <td>2.114e+05</td> \n",
       "</tr>\n",
       "<tr>\n",
       "  <th>Df Residuals:</th>          <td> 17355</td>      <th>  BIC:               </th>  <td>2.115e+05</td> \n",
       "</tr>\n",
       "<tr>\n",
       "  <th>Df Model:</th>              <td>    23</td>      <th>                     </th>      <td> </td>     \n",
       "</tr>\n",
       "<tr>\n",
       "  <th>Covariance Type:</th>      <td>nonrobust</td>    <th>                     </th>      <td> </td>     \n",
       "</tr>\n",
       "</table>\n",
       "<table class=\"simpletable\">\n",
       "<tr>\n",
       "      <td></td>         <th>coef</th>     <th>std err</th>      <th>t</th>      <th>P>|t|</th> <th>[95.0% Conf. Int.]</th> \n",
       "</tr>\n",
       "<tr>\n",
       "  <th>Intercept</th> <td>   43.7397</td> <td>    3.925</td> <td>   11.145</td> <td> 0.000</td> <td>   36.047    51.432</td>\n",
       "</tr>\n",
       "<tr>\n",
       "  <th>hour_1</th>    <td>  -16.8681</td> <td>    5.554</td> <td>   -3.037</td> <td> 0.002</td> <td>  -27.755    -5.982</td>\n",
       "</tr>\n",
       "<tr>\n",
       "  <th>hour_2</th>    <td>  -25.6418</td> <td>    5.572</td> <td>   -4.602</td> <td> 0.000</td> <td>  -36.563   -14.721</td>\n",
       "</tr>\n",
       "<tr>\n",
       "  <th>hour_3</th>    <td>  -34.7282</td> <td>    5.608</td> <td>   -6.193</td> <td> 0.000</td> <td>  -45.720   -23.737</td>\n",
       "</tr>\n",
       "<tr>\n",
       "  <th>hour_4</th>    <td>  -38.6407</td> <td>    5.608</td> <td>   -6.891</td> <td> 0.000</td> <td>  -49.632   -27.649</td>\n",
       "</tr>\n",
       "<tr>\n",
       "  <th>hour_5</th>    <td>  -25.2613</td> <td>    5.568</td> <td>   -4.537</td> <td> 0.000</td> <td>  -36.174   -14.348</td>\n",
       "</tr>\n",
       "<tr>\n",
       "  <th>hour_6</th>    <td>   28.1431</td> <td>    5.552</td> <td>    5.069</td> <td> 0.000</td> <td>   17.260    39.026</td>\n",
       "</tr>\n",
       "<tr>\n",
       "  <th>hour_7</th>    <td>  157.2700</td> <td>    5.548</td> <td>   28.345</td> <td> 0.000</td> <td>  146.395   168.145</td>\n",
       "</tr>\n",
       "<tr>\n",
       "  <th>hour_8</th>    <td>  293.5918</td> <td>    5.548</td> <td>   52.915</td> <td> 0.000</td> <td>  282.717   304.467</td>\n",
       "</tr>\n",
       "<tr>\n",
       "  <th>hour_9</th>    <td>  144.6785</td> <td>    5.548</td> <td>   26.076</td> <td> 0.000</td> <td>  133.803   155.554</td>\n",
       "</tr>\n",
       "<tr>\n",
       "  <th>hour_10</th>   <td>   83.4515</td> <td>    5.548</td> <td>   15.041</td> <td> 0.000</td> <td>   72.576    94.327</td>\n",
       "</tr>\n",
       "<tr>\n",
       "  <th>hour_11</th>   <td>  104.8628</td> <td>    5.548</td> <td>   18.900</td> <td> 0.000</td> <td>   93.988   115.738</td>\n",
       "</tr>\n",
       "<tr>\n",
       "  <th>hour_12</th>   <td>  141.2823</td> <td>    5.546</td> <td>   25.473</td> <td> 0.000</td> <td>  130.411   152.154</td>\n",
       "</tr>\n",
       "<tr>\n",
       "  <th>hour_13</th>   <td>  137.6129</td> <td>    5.545</td> <td>   24.820</td> <td> 0.000</td> <td>  126.745   148.481</td>\n",
       "</tr>\n",
       "<tr>\n",
       "  <th>hour_14</th>   <td>  121.6417</td> <td>    5.545</td> <td>   21.939</td> <td> 0.000</td> <td>  110.774   132.510</td>\n",
       "</tr>\n",
       "<tr>\n",
       "  <th>hour_15</th>   <td>  132.5882</td> <td>    5.545</td> <td>   23.913</td> <td> 0.000</td> <td>  121.720   143.456</td>\n",
       "</tr>\n",
       "<tr>\n",
       "  <th>hour_16</th>   <td>  194.4987</td> <td>    5.543</td> <td>   35.091</td> <td> 0.000</td> <td>  183.635   205.363</td>\n",
       "</tr>\n",
       "<tr>\n",
       "  <th>hour_17</th>   <td>  343.4384</td> <td>    5.543</td> <td>   61.963</td> <td> 0.000</td> <td>  332.574   354.303</td>\n",
       "</tr>\n",
       "<tr>\n",
       "  <th>hour_18</th>   <td>  320.6504</td> <td>    5.546</td> <td>   57.812</td> <td> 0.000</td> <td>  309.779   331.522</td>\n",
       "</tr>\n",
       "<tr>\n",
       "  <th>hour_19</th>   <td>  219.0131</td> <td>    5.546</td> <td>   39.487</td> <td> 0.000</td> <td>  208.142   229.885</td>\n",
       "</tr>\n",
       "<tr>\n",
       "  <th>hour_20</th>   <td>  146.0570</td> <td>    5.546</td> <td>   26.334</td> <td> 0.000</td> <td>  135.185   156.929</td>\n",
       "</tr>\n",
       "<tr>\n",
       "  <th>hour_21</th>   <td>  100.3194</td> <td>    5.546</td> <td>   18.087</td> <td> 0.000</td> <td>   89.448   111.191</td>\n",
       "</tr>\n",
       "<tr>\n",
       "  <th>hour_22</th>   <td>   65.3427</td> <td>    5.546</td> <td>   11.781</td> <td> 0.000</td> <td>   54.471    76.214</td>\n",
       "</tr>\n",
       "<tr>\n",
       "  <th>hour_23</th>   <td>   28.8922</td> <td>    5.546</td> <td>    5.209</td> <td> 0.000</td> <td>   18.021    39.764</td>\n",
       "</tr>\n",
       "</table>\n",
       "<table class=\"simpletable\">\n",
       "<tr>\n",
       "  <th>Omnibus:</th>       <td>1703.252</td> <th>  Durbin-Watson:     </th> <td>   0.377</td>\n",
       "</tr>\n",
       "<tr>\n",
       "  <th>Prob(Omnibus):</th>  <td> 0.000</td>  <th>  Jarque-Bera (JB):  </th> <td>5500.807</td>\n",
       "</tr>\n",
       "<tr>\n",
       "  <th>Skew:</th>           <td> 0.501</td>  <th>  Prob(JB):          </th> <td>    0.00</td>\n",
       "</tr>\n",
       "<tr>\n",
       "  <th>Kurtosis:</th>       <td> 5.568</td>  <th>  Cond. No.          </th> <td>    24.9</td>\n",
       "</tr>\n",
       "</table>"
      ],
      "text/plain": [
       "<class 'statsmodels.iolib.summary.Summary'>\n",
       "\"\"\"\n",
       "                            OLS Regression Results                            \n",
       "==============================================================================\n",
       "Dep. Variable:             registered   R-squared:                       0.513\n",
       "Model:                            OLS   Adj. R-squared:                  0.512\n",
       "Method:                 Least Squares   F-statistic:                     793.4\n",
       "Date:                Mon, 19 Sep 2016   Prob (F-statistic):               0.00\n",
       "Time:                        12:44:30   Log-Likelihood:            -1.0565e+05\n",
       "No. Observations:               17379   AIC:                         2.114e+05\n",
       "Df Residuals:                   17355   BIC:                         2.115e+05\n",
       "Df Model:                          23                                         \n",
       "Covariance Type:            nonrobust                                         \n",
       "==============================================================================\n",
       "                 coef    std err          t      P>|t|      [95.0% Conf. Int.]\n",
       "------------------------------------------------------------------------------\n",
       "Intercept     43.7397      3.925     11.145      0.000        36.047    51.432\n",
       "hour_1       -16.8681      5.554     -3.037      0.002       -27.755    -5.982\n",
       "hour_2       -25.6418      5.572     -4.602      0.000       -36.563   -14.721\n",
       "hour_3       -34.7282      5.608     -6.193      0.000       -45.720   -23.737\n",
       "hour_4       -38.6407      5.608     -6.891      0.000       -49.632   -27.649\n",
       "hour_5       -25.2613      5.568     -4.537      0.000       -36.174   -14.348\n",
       "hour_6        28.1431      5.552      5.069      0.000        17.260    39.026\n",
       "hour_7       157.2700      5.548     28.345      0.000       146.395   168.145\n",
       "hour_8       293.5918      5.548     52.915      0.000       282.717   304.467\n",
       "hour_9       144.6785      5.548     26.076      0.000       133.803   155.554\n",
       "hour_10       83.4515      5.548     15.041      0.000        72.576    94.327\n",
       "hour_11      104.8628      5.548     18.900      0.000        93.988   115.738\n",
       "hour_12      141.2823      5.546     25.473      0.000       130.411   152.154\n",
       "hour_13      137.6129      5.545     24.820      0.000       126.745   148.481\n",
       "hour_14      121.6417      5.545     21.939      0.000       110.774   132.510\n",
       "hour_15      132.5882      5.545     23.913      0.000       121.720   143.456\n",
       "hour_16      194.4987      5.543     35.091      0.000       183.635   205.363\n",
       "hour_17      343.4384      5.543     61.963      0.000       332.574   354.303\n",
       "hour_18      320.6504      5.546     57.812      0.000       309.779   331.522\n",
       "hour_19      219.0131      5.546     39.487      0.000       208.142   229.885\n",
       "hour_20      146.0570      5.546     26.334      0.000       135.185   156.929\n",
       "hour_21      100.3194      5.546     18.087      0.000        89.448   111.191\n",
       "hour_22       65.3427      5.546     11.781      0.000        54.471    76.214\n",
       "hour_23       28.8922      5.546      5.209      0.000        18.021    39.764\n",
       "==============================================================================\n",
       "Omnibus:                     1703.252   Durbin-Watson:                   0.377\n",
       "Prob(Omnibus):                  0.000   Jarque-Bera (JB):             5500.807\n",
       "Skew:                           0.501   Prob(JB):                         0.00\n",
       "Kurtosis:                       5.568   Cond. No.                         24.9\n",
       "==============================================================================\n",
       "\n",
       "Warnings:\n",
       "[1] Standard Errors assume that the covariance matrix of the errors is correctly specified.\n",
       "\"\"\""
      ]
     },
     "execution_count": 45,
     "metadata": {},
     "output_type": "execute_result"
    }
   ],
   "source": [
    "# Model for hours of day (dropping hour 0 as default).\n",
    "lm = smf.ols(formula='registered ~ hour_1 + hour_2 + hour_3 \\\n",
    "             + hour_4 + hour_5 + hour_6 + hour_7 + hour_8 + hour_9 + hour_10 + hour_11 + hour_12 + hour_13 + hour_14 + \\\n",
    "             hour_15 + hour_16 + hour_17 +hour_18 + hour_19 + hour_20 + hour_21 + hour_22 + hour_23', data=bikemodel_data).fit()\n",
    "lm.summary()"
   ]
  },
  {
   "cell_type": "markdown",
   "metadata": {},
   "source": [
    "#### Interpretation\n",
    "\n",
    "The baseline (intercept) is 44 riders per hour; fewer during the night (hours 1 to 5 have negative coefficients); and peaks around rush hours (hours 8 and 17)."
   ]
  },
  {
   "cell_type": "code",
   "execution_count": 46,
   "metadata": {
    "collapsed": false
   },
   "outputs": [
    {
     "data": {
      "text/plain": [
       "season\n",
       "1    0.299147\n",
       "2    0.544663\n",
       "3    0.706410\n",
       "4    0.423138\n",
       "Name: temp, dtype: float64"
      ]
     },
     "execution_count": 46,
     "metadata": {},
     "output_type": "execute_result"
    }
   ],
   "source": [
    "# Work out what the seasons are by getting average temp for each.\n",
    "pd.pivot_table(bikemodel_data,values='temp',index='season',aggfunc='mean')"
   ]
  },
  {
   "cell_type": "markdown",
   "metadata": {},
   "source": [
    "From this we deduce that season 1 = Winter and Season 3 = Summer. We'll drop Winter as the default."
   ]
  },
  {
   "cell_type": "code",
   "execution_count": 47,
   "metadata": {
    "collapsed": false
   },
   "outputs": [
    {
     "data": {
      "text/html": [
       "<table class=\"simpletable\">\n",
       "<caption>OLS Regression Results</caption>\n",
       "<tr>\n",
       "  <th>Dep. Variable:</th>       <td>registered</td>    <th>  R-squared:         </th>  <td>   0.049</td>  \n",
       "</tr>\n",
       "<tr>\n",
       "  <th>Model:</th>                   <td>OLS</td>       <th>  Adj. R-squared:    </th>  <td>   0.049</td>  \n",
       "</tr>\n",
       "<tr>\n",
       "  <th>Method:</th>             <td>Least Squares</td>  <th>  F-statistic:       </th>  <td>   299.0</td>  \n",
       "</tr>\n",
       "<tr>\n",
       "  <th>Date:</th>             <td>Mon, 19 Sep 2016</td> <th>  Prob (F-statistic):</th>  <td>2.94e-189</td> \n",
       "</tr>\n",
       "<tr>\n",
       "  <th>Time:</th>                 <td>12:44:34</td>     <th>  Log-Likelihood:    </th> <td>-1.1146e+05</td>\n",
       "</tr>\n",
       "<tr>\n",
       "  <th>No. Observations:</th>      <td> 17379</td>      <th>  AIC:               </th>  <td>2.229e+05</td> \n",
       "</tr>\n",
       "<tr>\n",
       "  <th>Df Residuals:</th>          <td> 17375</td>      <th>  BIC:               </th>  <td>2.230e+05</td> \n",
       "</tr>\n",
       "<tr>\n",
       "  <th>Df Model:</th>              <td>     3</td>      <th>                     </th>      <td> </td>     \n",
       "</tr>\n",
       "<tr>\n",
       "  <th>Covariance Type:</th>      <td>nonrobust</td>    <th>                     </th>      <td> </td>     \n",
       "</tr>\n",
       "</table>\n",
       "<table class=\"simpletable\">\n",
       "<tr>\n",
       "      <td></td>         <th>coef</th>     <th>std err</th>      <th>t</th>      <th>P>|t|</th> <th>[95.0% Conf. Int.]</th> \n",
       "</tr>\n",
       "<tr>\n",
       "  <th>Intercept</th> <td>   96.8237</td> <td>    2.266</td> <td>   42.722</td> <td> 0.000</td> <td>   92.381   101.266</td>\n",
       "</tr>\n",
       "<tr>\n",
       "  <th>season_2</th>  <td>   65.3598</td> <td>    3.175</td> <td>   20.588</td> <td> 0.000</td> <td>   59.137    71.582</td>\n",
       "</tr>\n",
       "<tr>\n",
       "  <th>season_3</th>  <td>   88.9054</td> <td>    3.160</td> <td>   28.139</td> <td> 0.000</td> <td>   82.712    95.098</td>\n",
       "</tr>\n",
       "<tr>\n",
       "  <th>season_4</th>  <td>   71.3784</td> <td>    3.207</td> <td>   22.257</td> <td> 0.000</td> <td>   65.092    77.664</td>\n",
       "</tr>\n",
       "</table>\n",
       "<table class=\"simpletable\">\n",
       "<tr>\n",
       "  <th>Omnibus:</th>       <td>4701.441</td> <th>  Durbin-Watson:     </th> <td>   0.414</td> \n",
       "</tr>\n",
       "<tr>\n",
       "  <th>Prob(Omnibus):</th>  <td> 0.000</td>  <th>  Jarque-Bera (JB):  </th> <td>11728.143</td>\n",
       "</tr>\n",
       "<tr>\n",
       "  <th>Skew:</th>           <td> 1.491</td>  <th>  Prob(JB):          </th> <td>    0.00</td> \n",
       "</tr>\n",
       "<tr>\n",
       "  <th>Kurtosis:</th>       <td> 5.702</td>  <th>  Cond. No.          </th> <td>    4.84</td> \n",
       "</tr>\n",
       "</table>"
      ],
      "text/plain": [
       "<class 'statsmodels.iolib.summary.Summary'>\n",
       "\"\"\"\n",
       "                            OLS Regression Results                            \n",
       "==============================================================================\n",
       "Dep. Variable:             registered   R-squared:                       0.049\n",
       "Model:                            OLS   Adj. R-squared:                  0.049\n",
       "Method:                 Least Squares   F-statistic:                     299.0\n",
       "Date:                Mon, 19 Sep 2016   Prob (F-statistic):          2.94e-189\n",
       "Time:                        12:44:34   Log-Likelihood:            -1.1146e+05\n",
       "No. Observations:               17379   AIC:                         2.229e+05\n",
       "Df Residuals:                   17375   BIC:                         2.230e+05\n",
       "Df Model:                           3                                         \n",
       "Covariance Type:            nonrobust                                         \n",
       "==============================================================================\n",
       "                 coef    std err          t      P>|t|      [95.0% Conf. Int.]\n",
       "------------------------------------------------------------------------------\n",
       "Intercept     96.8237      2.266     42.722      0.000        92.381   101.266\n",
       "season_2      65.3598      3.175     20.588      0.000        59.137    71.582\n",
       "season_3      88.9054      3.160     28.139      0.000        82.712    95.098\n",
       "season_4      71.3784      3.207     22.257      0.000        65.092    77.664\n",
       "==============================================================================\n",
       "Omnibus:                     4701.441   Durbin-Watson:                   0.414\n",
       "Prob(Omnibus):                  0.000   Jarque-Bera (JB):            11728.143\n",
       "Skew:                           1.491   Prob(JB):                         0.00\n",
       "Kurtosis:                       5.702   Cond. No.                         4.84\n",
       "==============================================================================\n",
       "\n",
       "Warnings:\n",
       "[1] Standard Errors assume that the covariance matrix of the errors is correctly specified.\n",
       "\"\"\""
      ]
     },
     "execution_count": 47,
     "metadata": {},
     "output_type": "execute_result"
    }
   ],
   "source": [
    "# Model for season (dropping season_1).\n",
    "lm = smf.ols(formula='registered ~ season_2 + season_3 + season_4', data=bikemodel_data).fit()\n",
    "lm.summary()"
   ]
  },
  {
   "cell_type": "markdown",
   "metadata": {},
   "source": [
    "#### Interpretation\n",
    "\n",
    "Coefficients make intuitive sense - baseline number of riders in winter is 97 per hour (intercept); higher in all other seasons, with summer the highest."
   ]
  },
  {
   "cell_type": "code",
   "execution_count": 48,
   "metadata": {
    "collapsed": false
   },
   "outputs": [
    {
     "data": {
      "text/html": [
       "<table class=\"simpletable\">\n",
       "<caption>OLS Regression Results</caption>\n",
       "<tr>\n",
       "  <th>Dep. Variable:</th>       <td>registered</td>    <th>  R-squared:         </th>  <td>   0.002</td>  \n",
       "</tr>\n",
       "<tr>\n",
       "  <th>Model:</th>                   <td>OLS</td>       <th>  Adj. R-squared:    </th>  <td>   0.002</td>  \n",
       "</tr>\n",
       "<tr>\n",
       "  <th>Method:</th>             <td>Least Squares</td>  <th>  F-statistic:       </th>  <td>   39.04</td>  \n",
       "</tr>\n",
       "<tr>\n",
       "  <th>Date:</th>             <td>Mon, 19 Sep 2016</td> <th>  Prob (F-statistic):</th>  <td>4.25e-10</td>  \n",
       "</tr>\n",
       "<tr>\n",
       "  <th>Time:</th>                 <td>12:44:35</td>     <th>  Log-Likelihood:    </th> <td>-1.1188e+05</td>\n",
       "</tr>\n",
       "<tr>\n",
       "  <th>No. Observations:</th>      <td> 17379</td>      <th>  AIC:               </th>  <td>2.238e+05</td> \n",
       "</tr>\n",
       "<tr>\n",
       "  <th>Df Residuals:</th>          <td> 17377</td>      <th>  BIC:               </th>  <td>2.238e+05</td> \n",
       "</tr>\n",
       "<tr>\n",
       "  <th>Df Model:</th>              <td>     1</td>      <th>                     </th>      <td> </td>     \n",
       "</tr>\n",
       "<tr>\n",
       "  <th>Covariance Type:</th>      <td>nonrobust</td>    <th>                     </th>      <td> </td>     \n",
       "</tr>\n",
       "</table>\n",
       "<table class=\"simpletable\">\n",
       "<tr>\n",
       "      <td></td>         <th>coef</th>     <th>std err</th>      <th>t</th>      <th>P>|t|</th> <th>[95.0% Conf. Int.]</th> \n",
       "</tr>\n",
       "<tr>\n",
       "  <th>Intercept</th> <td>  155.0202</td> <td>    1.164</td> <td>  133.209</td> <td> 0.000</td> <td>  152.739   157.301</td>\n",
       "</tr>\n",
       "<tr>\n",
       "  <th>holiday</th>   <td>  -42.8682</td> <td>    6.861</td> <td>   -6.248</td> <td> 0.000</td> <td>  -56.316   -29.420</td>\n",
       "</tr>\n",
       "</table>\n",
       "<table class=\"simpletable\">\n",
       "<tr>\n",
       "  <th>Omnibus:</th>       <td>4903.816</td> <th>  Durbin-Watson:     </th> <td>   0.395</td> \n",
       "</tr>\n",
       "<tr>\n",
       "  <th>Prob(Omnibus):</th>  <td> 0.000</td>  <th>  Jarque-Bera (JB):  </th> <td>12391.336</td>\n",
       "</tr>\n",
       "<tr>\n",
       "  <th>Skew:</th>           <td> 1.552</td>  <th>  Prob(JB):          </th> <td>    0.00</td> \n",
       "</tr>\n",
       "<tr>\n",
       "  <th>Kurtosis:</th>       <td> 5.734</td>  <th>  Cond. No.          </th> <td>    5.99</td> \n",
       "</tr>\n",
       "</table>"
      ],
      "text/plain": [
       "<class 'statsmodels.iolib.summary.Summary'>\n",
       "\"\"\"\n",
       "                            OLS Regression Results                            \n",
       "==============================================================================\n",
       "Dep. Variable:             registered   R-squared:                       0.002\n",
       "Model:                            OLS   Adj. R-squared:                  0.002\n",
       "Method:                 Least Squares   F-statistic:                     39.04\n",
       "Date:                Mon, 19 Sep 2016   Prob (F-statistic):           4.25e-10\n",
       "Time:                        12:44:35   Log-Likelihood:            -1.1188e+05\n",
       "No. Observations:               17379   AIC:                         2.238e+05\n",
       "Df Residuals:                   17377   BIC:                         2.238e+05\n",
       "Df Model:                           1                                         \n",
       "Covariance Type:            nonrobust                                         \n",
       "==============================================================================\n",
       "                 coef    std err          t      P>|t|      [95.0% Conf. Int.]\n",
       "------------------------------------------------------------------------------\n",
       "Intercept    155.0202      1.164    133.209      0.000       152.739   157.301\n",
       "holiday      -42.8682      6.861     -6.248      0.000       -56.316   -29.420\n",
       "==============================================================================\n",
       "Omnibus:                     4903.816   Durbin-Watson:                   0.395\n",
       "Prob(Omnibus):                  0.000   Jarque-Bera (JB):            12391.336\n",
       "Skew:                           1.552   Prob(JB):                         0.00\n",
       "Kurtosis:                       5.734   Cond. No.                         5.99\n",
       "==============================================================================\n",
       "\n",
       "Warnings:\n",
       "[1] Standard Errors assume that the covariance matrix of the errors is correctly specified.\n",
       "\"\"\""
      ]
     },
     "execution_count": 48,
     "metadata": {},
     "output_type": "execute_result"
    }
   ],
   "source": [
    "# Model holiday\n",
    "lm = smf.ols(formula='registered ~ holiday',\\\n",
    "             data=bikemodel_data).fit()\n",
    "lm.summary()"
   ]
  },
  {
   "cell_type": "markdown",
   "metadata": {},
   "source": [
    "#### Interpretation\n",
    "\n",
    "Makes intuitive sense as would expect fewer riders on holiday days becuase there would be a lot fewer commuters. Very low R-sqaured but this makes sense as *holiday* on its own would explain none of the variance due to time of day."
   ]
  },
  {
   "cell_type": "code",
   "execution_count": 49,
   "metadata": {
    "collapsed": false
   },
   "outputs": [
    {
     "data": {
      "text/plain": [
       "weekday\n",
       "0    303506\n",
       "1    384719\n",
       "2    411266\n",
       "3    415729\n",
       "4    423935\n",
       "5    409552\n",
       "6    323955\n",
       "Name: registered, dtype: int64"
      ]
     },
     "execution_count": 49,
     "metadata": {},
     "output_type": "execute_result"
    }
   ],
   "source": [
    "# See average registered for each weekday.\n",
    "pd.pivot_table(bikemodel_data,values='registered',index='weekday',aggfunc='sum')"
   ]
  },
  {
   "cell_type": "markdown",
   "metadata": {},
   "source": [
    "There is significant difference between different weekedays (minimum of ~300k, maximum of ~423k)."
   ]
  },
  {
   "cell_type": "code",
   "execution_count": 50,
   "metadata": {
    "collapsed": true
   },
   "outputs": [],
   "source": [
    "# Dummy the weekday variable\n",
    "weekday = pd.get_dummies(bikemodel_data.weekday,prefix='weekday',prefix_sep='_')\n",
    "bikemodel_data = bikemodel_data.join(weekday)"
   ]
  },
  {
   "cell_type": "code",
   "execution_count": 51,
   "metadata": {
    "collapsed": false
   },
   "outputs": [
    {
     "data": {
      "text/html": [
       "<table class=\"simpletable\">\n",
       "<caption>OLS Regression Results</caption>\n",
       "<tr>\n",
       "  <th>Dep. Variable:</th>       <td>registered</td>    <th>  R-squared:         </th>  <td>   0.016</td>  \n",
       "</tr>\n",
       "<tr>\n",
       "  <th>Model:</th>                   <td>OLS</td>       <th>  Adj. R-squared:    </th>  <td>   0.015</td>  \n",
       "</tr>\n",
       "<tr>\n",
       "  <th>Method:</th>             <td>Least Squares</td>  <th>  F-statistic:       </th>  <td>   46.09</td>  \n",
       "</tr>\n",
       "<tr>\n",
       "  <th>Date:</th>             <td>Mon, 19 Sep 2016</td> <th>  Prob (F-statistic):</th>  <td>2.48e-56</td>  \n",
       "</tr>\n",
       "<tr>\n",
       "  <th>Time:</th>                 <td>12:44:39</td>     <th>  Log-Likelihood:    </th> <td>-1.1176e+05</td>\n",
       "</tr>\n",
       "<tr>\n",
       "  <th>No. Observations:</th>      <td> 17379</td>      <th>  AIC:               </th>  <td>2.235e+05</td> \n",
       "</tr>\n",
       "<tr>\n",
       "  <th>Df Residuals:</th>          <td> 17372</td>      <th>  BIC:               </th>  <td>2.236e+05</td> \n",
       "</tr>\n",
       "<tr>\n",
       "  <th>Df Model:</th>              <td>     6</td>      <th>                     </th>      <td> </td>     \n",
       "</tr>\n",
       "<tr>\n",
       "  <th>Covariance Type:</th>      <td>nonrobust</td>    <th>                     </th>      <td> </td>     \n",
       "</tr>\n",
       "</table>\n",
       "<table class=\"simpletable\">\n",
       "<tr>\n",
       "      <td></td>         <th>coef</th>     <th>std err</th>      <th>t</th>      <th>P>|t|</th> <th>[95.0% Conf. Int.]</th> \n",
       "</tr>\n",
       "<tr>\n",
       "  <th>Intercept</th> <td>  121.3054</td> <td>    3.003</td> <td>   40.399</td> <td> 0.000</td> <td>  115.420   127.191</td>\n",
       "</tr>\n",
       "<tr>\n",
       "  <th>weekday_1</th> <td>   33.8859</td> <td>    4.256</td> <td>    7.961</td> <td> 0.000</td> <td>   25.543    42.228</td>\n",
       "</tr>\n",
       "<tr>\n",
       "  <th>weekday_2</th> <td>   46.3530</td> <td>    4.268</td> <td>   10.862</td> <td> 0.000</td> <td>   37.988    54.718</td>\n",
       "</tr>\n",
       "<tr>\n",
       "  <th>weekday_3</th> <td>   46.6660</td> <td>    4.258</td> <td>   10.960</td> <td> 0.000</td> <td>   38.320    55.012</td>\n",
       "</tr>\n",
       "<tr>\n",
       "  <th>weekday_4</th> <td>   50.2588</td> <td>    4.260</td> <td>   11.799</td> <td> 0.000</td> <td>   41.909    58.608</td>\n",
       "</tr>\n",
       "<tr>\n",
       "  <th>weekday_5</th> <td>   43.3718</td> <td>    4.253</td> <td>   10.198</td> <td> 0.000</td> <td>   35.036    51.708</td>\n",
       "</tr>\n",
       "<tr>\n",
       "  <th>weekday_6</th> <td>    7.6576</td> <td>    4.242</td> <td>    1.805</td> <td> 0.071</td> <td>   -0.657    15.973</td>\n",
       "</tr>\n",
       "</table>\n",
       "<table class=\"simpletable\">\n",
       "<tr>\n",
       "  <th>Omnibus:</th>       <td>4570.938</td> <th>  Durbin-Watson:     </th> <td>   0.401</td> \n",
       "</tr>\n",
       "<tr>\n",
       "  <th>Prob(Omnibus):</th>  <td> 0.000</td>  <th>  Jarque-Bera (JB):  </th> <td>10810.997</td>\n",
       "</tr>\n",
       "<tr>\n",
       "  <th>Skew:</th>           <td> 1.478</td>  <th>  Prob(JB):          </th> <td>    0.00</td> \n",
       "</tr>\n",
       "<tr>\n",
       "  <th>Kurtosis:</th>       <td> 5.489</td>  <th>  Cond. No.          </th> <td>    7.85</td> \n",
       "</tr>\n",
       "</table>"
      ],
      "text/plain": [
       "<class 'statsmodels.iolib.summary.Summary'>\n",
       "\"\"\"\n",
       "                            OLS Regression Results                            \n",
       "==============================================================================\n",
       "Dep. Variable:             registered   R-squared:                       0.016\n",
       "Model:                            OLS   Adj. R-squared:                  0.015\n",
       "Method:                 Least Squares   F-statistic:                     46.09\n",
       "Date:                Mon, 19 Sep 2016   Prob (F-statistic):           2.48e-56\n",
       "Time:                        12:44:39   Log-Likelihood:            -1.1176e+05\n",
       "No. Observations:               17379   AIC:                         2.235e+05\n",
       "Df Residuals:                   17372   BIC:                         2.236e+05\n",
       "Df Model:                           6                                         \n",
       "Covariance Type:            nonrobust                                         \n",
       "==============================================================================\n",
       "                 coef    std err          t      P>|t|      [95.0% Conf. Int.]\n",
       "------------------------------------------------------------------------------\n",
       "Intercept    121.3054      3.003     40.399      0.000       115.420   127.191\n",
       "weekday_1     33.8859      4.256      7.961      0.000        25.543    42.228\n",
       "weekday_2     46.3530      4.268     10.862      0.000        37.988    54.718\n",
       "weekday_3     46.6660      4.258     10.960      0.000        38.320    55.012\n",
       "weekday_4     50.2588      4.260     11.799      0.000        41.909    58.608\n",
       "weekday_5     43.3718      4.253     10.198      0.000        35.036    51.708\n",
       "weekday_6      7.6576      4.242      1.805      0.071        -0.657    15.973\n",
       "==============================================================================\n",
       "Omnibus:                     4570.938   Durbin-Watson:                   0.401\n",
       "Prob(Omnibus):                  0.000   Jarque-Bera (JB):            10810.997\n",
       "Skew:                           1.478   Prob(JB):                         0.00\n",
       "Kurtosis:                       5.489   Cond. No.                         7.85\n",
       "==============================================================================\n",
       "\n",
       "Warnings:\n",
       "[1] Standard Errors assume that the covariance matrix of the errors is correctly specified.\n",
       "\"\"\""
      ]
     },
     "execution_count": 51,
     "metadata": {},
     "output_type": "execute_result"
    }
   ],
   "source": [
    "# Model the weekdays, dropping minimum weekday 0.\n",
    "lm = smf.ols(formula='registered ~ weekday_1 + weekday_2 + weekday_3 + weekday_4 + weekday_5 + weekday_6',\\\n",
    "             data=bikemodel_data).fit()\n",
    "lm.summary()"
   ]
  },
  {
   "cell_type": "code",
   "execution_count": 52,
   "metadata": {
    "collapsed": false
   },
   "outputs": [
    {
     "name": "stdout",
     "output_type": "stream",
     "text": [
      "Axes(0.125,0.125;0.62x0.775)\n"
     ]
    },
    {
     "data": {
      "image/png": "[encoded data removed]",
      "text/plain": [
       "<matplotlib.figure.Figure at 0xd3b8f28>"
      ]
     },
     "metadata": {},
     "output_type": "display_data"
    }
   ],
   "source": [
    "# See if weekday and holiday are correlated (we would expect more holidays on Mondays due to bank holidays).\n",
    "columns =  ['weekday_0','weekday_1','weekday_2','weekday_3','weekday_4','weekday_5','weekday_6','holiday']\n",
    "correlations = bikemodel_data[columns].corr()\n",
    "\n",
    "# print correlations\n",
    "colour_map = sns.diverging_palette(220, 10, as_cmap=True)\n",
    "plt.figure(figsize=(10, 8))\n",
    "print sns.heatmap(correlations, cmap=colour_map)"
   ]
  },
  {
   "cell_type": "markdown",
   "metadata": {},
   "source": [
    "As expected *weekday_1* has high correlation with *holiday* as this is Mondays. Therefore we should not include both *holiday* and *weekday_1* as features in the final model to reduce multicollinearity."
   ]
  },
  {
   "cell_type": "code",
   "execution_count": 53,
   "metadata": {
    "collapsed": false
   },
   "outputs": [
    {
     "data": {
      "text/html": [
       "<table class=\"simpletable\">\n",
       "<caption>OLS Regression Results</caption>\n",
       "<tr>\n",
       "  <th>Dep. Variable:</th>       <td>registered</td>    <th>  R-squared:         </th>  <td>   0.579</td>  \n",
       "</tr>\n",
       "<tr>\n",
       "  <th>Model:</th>                   <td>OLS</td>       <th>  Adj. R-squared:    </th>  <td>   0.578</td>  \n",
       "</tr>\n",
       "<tr>\n",
       "  <th>Method:</th>             <td>Least Squares</td>  <th>  F-statistic:       </th>  <td>   744.5</td>  \n",
       "</tr>\n",
       "<tr>\n",
       "  <th>Date:</th>             <td>Mon, 19 Sep 2016</td> <th>  Prob (F-statistic):</th>   <td>  0.00</td>   \n",
       "</tr>\n",
       "<tr>\n",
       "  <th>Time:</th>                 <td>12:44:43</td>     <th>  Log-Likelihood:    </th> <td>-1.0438e+05</td>\n",
       "</tr>\n",
       "<tr>\n",
       "  <th>No. Observations:</th>      <td> 17379</td>      <th>  AIC:               </th>  <td>2.088e+05</td> \n",
       "</tr>\n",
       "<tr>\n",
       "  <th>Df Residuals:</th>          <td> 17346</td>      <th>  BIC:               </th>  <td>2.091e+05</td> \n",
       "</tr>\n",
       "<tr>\n",
       "  <th>Df Model:</th>              <td>    32</td>      <th>                     </th>      <td> </td>     \n",
       "</tr>\n",
       "<tr>\n",
       "  <th>Covariance Type:</th>      <td>nonrobust</td>    <th>                     </th>      <td> </td>     \n",
       "</tr>\n",
       "</table>\n",
       "<table class=\"simpletable\">\n",
       "<tr>\n",
       "      <td></td>         <th>coef</th>     <th>std err</th>      <th>t</th>      <th>P>|t|</th> <th>[95.0% Conf. Int.]</th> \n",
       "</tr>\n",
       "<tr>\n",
       "  <th>Intercept</th> <td>  -45.8902</td> <td>    4.278</td> <td>  -10.726</td> <td> 0.000</td> <td>  -54.276   -37.504</td>\n",
       "</tr>\n",
       "<tr>\n",
       "  <th>hour_1</th>    <td>  -16.7838</td> <td>    5.165</td> <td>   -3.250</td> <td> 0.001</td> <td>  -26.907    -6.660</td>\n",
       "</tr>\n",
       "<tr>\n",
       "  <th>hour_2</th>    <td>  -26.2173</td> <td>    5.181</td> <td>   -5.060</td> <td> 0.000</td> <td>  -36.373   -16.062</td>\n",
       "</tr>\n",
       "<tr>\n",
       "  <th>hour_3</th>    <td>  -35.9740</td> <td>    5.215</td> <td>   -6.898</td> <td> 0.000</td> <td>  -46.196   -25.752</td>\n",
       "</tr>\n",
       "<tr>\n",
       "  <th>hour_4</th>    <td>  -40.2631</td> <td>    5.215</td> <td>   -7.721</td> <td> 0.000</td> <td>  -50.485   -30.041</td>\n",
       "</tr>\n",
       "<tr>\n",
       "  <th>hour_5</th>    <td>  -26.1210</td> <td>    5.177</td> <td>   -5.045</td> <td> 0.000</td> <td>  -36.269   -15.973</td>\n",
       "</tr>\n",
       "<tr>\n",
       "  <th>hour_6</th>    <td>   28.1056</td> <td>    5.163</td> <td>    5.444</td> <td> 0.000</td> <td>   17.986    38.226</td>\n",
       "</tr>\n",
       "<tr>\n",
       "  <th>hour_7</th>    <td>  157.3551</td> <td>    5.159</td> <td>   30.499</td> <td> 0.000</td> <td>  147.242   167.468</td>\n",
       "</tr>\n",
       "<tr>\n",
       "  <th>hour_8</th>    <td>  293.6770</td> <td>    5.159</td> <td>   56.920</td> <td> 0.000</td> <td>  283.564   303.790</td>\n",
       "</tr>\n",
       "<tr>\n",
       "  <th>hour_9</th>    <td>  144.7637</td> <td>    5.159</td> <td>   28.058</td> <td> 0.000</td> <td>  134.651   154.877</td>\n",
       "</tr>\n",
       "<tr>\n",
       "  <th>hour_10</th>   <td>   83.5367</td> <td>    5.159</td> <td>   16.191</td> <td> 0.000</td> <td>   73.424    93.650</td>\n",
       "</tr>\n",
       "<tr>\n",
       "  <th>hour_11</th>   <td>  104.9480</td> <td>    5.159</td> <td>   20.341</td> <td> 0.000</td> <td>   94.835   115.061</td>\n",
       "</tr>\n",
       "<tr>\n",
       "  <th>hour_12</th>   <td>  141.4302</td> <td>    5.158</td> <td>   27.421</td> <td> 0.000</td> <td>  131.321   151.540</td>\n",
       "</tr>\n",
       "<tr>\n",
       "  <th>hour_13</th>   <td>  137.7231</td> <td>    5.156</td> <td>   26.712</td> <td> 0.000</td> <td>  127.617   147.829</td>\n",
       "</tr>\n",
       "<tr>\n",
       "  <th>hour_14</th>   <td>  121.7519</td> <td>    5.156</td> <td>   23.614</td> <td> 0.000</td> <td>  111.646   131.858</td>\n",
       "</tr>\n",
       "<tr>\n",
       "  <th>hour_15</th>   <td>  132.6984</td> <td>    5.156</td> <td>   25.737</td> <td> 0.000</td> <td>  122.592   142.805</td>\n",
       "</tr>\n",
       "<tr>\n",
       "  <th>hour_16</th>   <td>  194.6651</td> <td>    5.154</td> <td>   37.769</td> <td> 0.000</td> <td>  184.562   204.768</td>\n",
       "</tr>\n",
       "<tr>\n",
       "  <th>hour_17</th>   <td>  343.6049</td> <td>    5.154</td> <td>   66.666</td> <td> 0.000</td> <td>  333.502   353.707</td>\n",
       "</tr>\n",
       "<tr>\n",
       "  <th>hour_18</th>   <td>  320.7688</td> <td>    5.158</td> <td>   62.193</td> <td> 0.000</td> <td>  310.659   330.878</td>\n",
       "</tr>\n",
       "<tr>\n",
       "  <th>hour_19</th>   <td>  219.1314</td> <td>    5.158</td> <td>   42.486</td> <td> 0.000</td> <td>  209.022   229.241</td>\n",
       "</tr>\n",
       "<tr>\n",
       "  <th>hour_20</th>   <td>  146.1754</td> <td>    5.158</td> <td>   28.341</td> <td> 0.000</td> <td>  136.066   156.285</td>\n",
       "</tr>\n",
       "<tr>\n",
       "  <th>hour_21</th>   <td>  100.4377</td> <td>    5.158</td> <td>   19.473</td> <td> 0.000</td> <td>   90.328   110.547</td>\n",
       "</tr>\n",
       "<tr>\n",
       "  <th>hour_22</th>   <td>   65.4611</td> <td>    5.158</td> <td>   12.692</td> <td> 0.000</td> <td>   55.352    75.571</td>\n",
       "</tr>\n",
       "<tr>\n",
       "  <th>hour_23</th>   <td>   29.0105</td> <td>    5.158</td> <td>    5.625</td> <td> 0.000</td> <td>   18.901    39.120</td>\n",
       "</tr>\n",
       "<tr>\n",
       "  <th>season_2</th>  <td>   66.8398</td> <td>    2.115</td> <td>   31.597</td> <td> 0.000</td> <td>   62.693    70.986</td>\n",
       "</tr>\n",
       "<tr>\n",
       "  <th>season_3</th>  <td>   90.1373</td> <td>    2.106</td> <td>   42.809</td> <td> 0.000</td> <td>   86.010    94.264</td>\n",
       "</tr>\n",
       "<tr>\n",
       "  <th>season_4</th>  <td>   73.0776</td> <td>    2.137</td> <td>   34.198</td> <td> 0.000</td> <td>   68.889    77.266</td>\n",
       "</tr>\n",
       "<tr>\n",
       "  <th>weekday_1</th> <td>   33.2155</td> <td>    2.787</td> <td>   11.919</td> <td> 0.000</td> <td>   27.753    38.678</td>\n",
       "</tr>\n",
       "<tr>\n",
       "  <th>weekday_2</th> <td>   43.8639</td> <td>    2.794</td> <td>   15.697</td> <td> 0.000</td> <td>   38.387    49.341</td>\n",
       "</tr>\n",
       "<tr>\n",
       "  <th>weekday_3</th> <td>   45.1736</td> <td>    2.788</td> <td>   16.202</td> <td> 0.000</td> <td>   39.709    50.639</td>\n",
       "</tr>\n",
       "<tr>\n",
       "  <th>weekday_4</th> <td>   48.5005</td> <td>    2.789</td> <td>   17.388</td> <td> 0.000</td> <td>   43.033    53.968</td>\n",
       "</tr>\n",
       "<tr>\n",
       "  <th>weekday_5</th> <td>   42.9816</td> <td>    2.785</td> <td>   15.436</td> <td> 0.000</td> <td>   37.524    48.440</td>\n",
       "</tr>\n",
       "<tr>\n",
       "  <th>weekday_6</th> <td>    8.5785</td> <td>    2.778</td> <td>    3.089</td> <td> 0.002</td> <td>    3.134    14.023</td>\n",
       "</tr>\n",
       "</table>\n",
       "<table class=\"simpletable\">\n",
       "<tr>\n",
       "  <th>Omnibus:</th>       <td>1782.442</td> <th>  Durbin-Watson:     </th> <td>   0.439</td>\n",
       "</tr>\n",
       "<tr>\n",
       "  <th>Prob(Omnibus):</th>  <td> 0.000</td>  <th>  Jarque-Bera (JB):  </th> <td>4722.453</td>\n",
       "</tr>\n",
       "<tr>\n",
       "  <th>Skew:</th>           <td> 0.584</td>  <th>  Prob(JB):          </th> <td>    0.00</td>\n",
       "</tr>\n",
       "<tr>\n",
       "  <th>Kurtosis:</th>       <td> 5.270</td>  <th>  Cond. No.          </th> <td>    28.6</td>\n",
       "</tr>\n",
       "</table>"
      ],
      "text/plain": [
       "<class 'statsmodels.iolib.summary.Summary'>\n",
       "\"\"\"\n",
       "                            OLS Regression Results                            \n",
       "==============================================================================\n",
       "Dep. Variable:             registered   R-squared:                       0.579\n",
       "Model:                            OLS   Adj. R-squared:                  0.578\n",
       "Method:                 Least Squares   F-statistic:                     744.5\n",
       "Date:                Mon, 19 Sep 2016   Prob (F-statistic):               0.00\n",
       "Time:                        12:44:43   Log-Likelihood:            -1.0438e+05\n",
       "No. Observations:               17379   AIC:                         2.088e+05\n",
       "Df Residuals:                   17346   BIC:                         2.091e+05\n",
       "Df Model:                          32                                         \n",
       "Covariance Type:            nonrobust                                         \n",
       "==============================================================================\n",
       "                 coef    std err          t      P>|t|      [95.0% Conf. Int.]\n",
       "------------------------------------------------------------------------------\n",
       "Intercept    -45.8902      4.278    -10.726      0.000       -54.276   -37.504\n",
       "hour_1       -16.7838      5.165     -3.250      0.001       -26.907    -6.660\n",
       "hour_2       -26.2173      5.181     -5.060      0.000       -36.373   -16.062\n",
       "hour_3       -35.9740      5.215     -6.898      0.000       -46.196   -25.752\n",
       "hour_4       -40.2631      5.215     -7.721      0.000       -50.485   -30.041\n",
       "hour_5       -26.1210      5.177     -5.045      0.000       -36.269   -15.973\n",
       "hour_6        28.1056      5.163      5.444      0.000        17.986    38.226\n",
       "hour_7       157.3551      5.159     30.499      0.000       147.242   167.468\n",
       "hour_8       293.6770      5.159     56.920      0.000       283.564   303.790\n",
       "hour_9       144.7637      5.159     28.058      0.000       134.651   154.877\n",
       "hour_10       83.5367      5.159     16.191      0.000        73.424    93.650\n",
       "hour_11      104.9480      5.159     20.341      0.000        94.835   115.061\n",
       "hour_12      141.4302      5.158     27.421      0.000       131.321   151.540\n",
       "hour_13      137.7231      5.156     26.712      0.000       127.617   147.829\n",
       "hour_14      121.7519      5.156     23.614      0.000       111.646   131.858\n",
       "hour_15      132.6984      5.156     25.737      0.000       122.592   142.805\n",
       "hour_16      194.6651      5.154     37.769      0.000       184.562   204.768\n",
       "hour_17      343.6049      5.154     66.666      0.000       333.502   353.707\n",
       "hour_18      320.7688      5.158     62.193      0.000       310.659   330.878\n",
       "hour_19      219.1314      5.158     42.486      0.000       209.022   229.241\n",
       "hour_20      146.1754      5.158     28.341      0.000       136.066   156.285\n",
       "hour_21      100.4377      5.158     19.473      0.000        90.328   110.547\n",
       "hour_22       65.4611      5.158     12.692      0.000        55.352    75.571\n",
       "hour_23       29.0105      5.158      5.625      0.000        18.901    39.120\n",
       "season_2      66.8398      2.115     31.597      0.000        62.693    70.986\n",
       "season_3      90.1373      2.106     42.809      0.000        86.010    94.264\n",
       "season_4      73.0776      2.137     34.198      0.000        68.889    77.266\n",
       "weekday_1     33.2155      2.787     11.919      0.000        27.753    38.678\n",
       "weekday_2     43.8639      2.794     15.697      0.000        38.387    49.341\n",
       "weekday_3     45.1736      2.788     16.202      0.000        39.709    50.639\n",
       "weekday_4     48.5005      2.789     17.388      0.000        43.033    53.968\n",
       "weekday_5     42.9816      2.785     15.436      0.000        37.524    48.440\n",
       "weekday_6      8.5785      2.778      3.089      0.002         3.134    14.023\n",
       "==============================================================================\n",
       "Omnibus:                     1782.442   Durbin-Watson:                   0.439\n",
       "Prob(Omnibus):                  0.000   Jarque-Bera (JB):             4722.453\n",
       "Skew:                           0.584   Prob(JB):                         0.00\n",
       "Kurtosis:                       5.270   Cond. No.                         28.6\n",
       "==============================================================================\n",
       "\n",
       "Warnings:\n",
       "[1] Standard Errors assume that the covariance matrix of the errors is correctly specified.\n",
       "\"\"\""
      ]
     },
     "execution_count": 53,
     "metadata": {},
     "output_type": "execute_result"
    }
   ],
   "source": [
    "# Model holiday, season, weekday and hours\n",
    "lm = smf.ols(formula='registered ~ hour_1 + hour_2 + hour_3 + hour_4 + hour_5 + hour_6 + hour_7 + hour_8 \\\n",
    "                    + hour_9 + hour_10 + hour_11 + hour_12 + hour_13 + hour_14 + hour_15 + hour_16 + hour_17 \\\n",
    "                    + hour_18 + hour_19 + hour_20 + hour_21 + hour_22 + hour_23 + season_2 + season_3 + season_4 +\\\n",
    "                    weekday_1 + weekday_2 + weekday_3 + weekday_4 + weekday_5 + weekday_6',\\\n",
    "             data=bikemodel_data).fit()\n",
    "lm.summary()"
   ]
  }
 ],
 "metadata": {
  "kernelspec": {
   "display_name": "Python 2",
   "language": "python",
   "name": "python2"
  },
  "language_info": {
   "codemirror_mode": {
    "name": "ipython",
    "version": 2
   },
   "file_extension": ".py",
   "mimetype": "text/x-python",
   "name": "python",
   "nbconvert_exporter": "python",
   "pygments_lexer": "ipython2",
   "version": "2.7.12"
  }
 },
 "nbformat": 4,
 "nbformat_minor": 0
}
