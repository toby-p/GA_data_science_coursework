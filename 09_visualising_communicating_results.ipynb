{
 "cells": [
  {
   "cell_type": "markdown",
   "metadata": {},
   "source": [
    "# Lesson 9: Communicating Results\n",
    "## Starter code for guided practice & demos"
   ]
  },
  {
   "cell_type": "markdown",
   "metadata": {},
   "source": [
    "## Activity: \"Which metric should I use?\"\n",
    "While AUC seems like a “golden standard”, it could be further improved depending upon your problem.  There will be instances where error in positive or negative matches will be very important.  For each of the following examples:\n",
    "\n",
    "1. Write a confusion matrix: true positive, false positive, true negative, false negative. Then decide what each square represents for that specific example.\n",
    "2. Define the benefit of a true positive and true negative.\n",
    "3. Define the cost of a false positive and false negative.\n",
    "4. Determine at what point does the cost of a failure outweigh the benefit of a success? This would help you decide how to optimise TPR, FPR, and AUC.\n",
    "\n",
    "**Examples:**\n",
    "- A test is developed for determining if a patient has cancer or not.\n",
    "- A website is targeting a marketing retention campaign for paying customers “at risk\" of churning.\n",
    "- You build a spam classifier for your email system."
   ]
  },
  {
   "cell_type": "markdown",
   "metadata": {},
   "source": [
    "- A test is developed for determining if a patient has cancer or not.\n",
    "\n",
    "| |True|False|\n",
    "|--|--|--|\n",
    "|True| Test positive; patient has cancer| Test positive; patient doesn't have cancer|\n",
    "|False|Test negative; patient has cancer| Test negative; patient doesn't have cancer|\n",
    "\n",
    "False negative is most costly because potentially results in death if cancer not detected. Costs to a false positive potentially costly in economic sense in terms of wasted costs for treatment, and also potential side effects for patient."
   ]
  },
  {
   "cell_type": "markdown",
   "metadata": {},
   "source": [
    "- A website is targeting a marketing retention campaign for paying customers “at risk\" of churning.\n",
    "\n",
    "\n",
    "| |True|False|\n",
    "|--|--|--|\n",
    "|True| Customer sent email; customer at risk| Customer sent email; customer not at risk|\n",
    "|False|Customer not sent email; customer at risk| Customer not sent email; customer not at risk|\n",
    "\n",
    "False negative is most costly because you could potentially lose a customer, and the cost of sending email to try to retain them is probably very low. False positive potentially has smaller economic cost if you are offering discounts to retain a customer who isn't at risk of churning."
   ]
  },
  {
   "cell_type": "markdown",
   "metadata": {},
   "source": [
    "- You build a spam classifier for your email system.\n",
    "\n",
    "| |True|False|\n",
    "|--|--|--|\n",
    "|True| Flagged as spam; is spam| Flagged as spam; isn't spam|\n",
    "|False|Not flagged as spam; is spam| Not flagged as spam; isn't spam|\n",
    "\n",
    "False negative is annoying as results in spam filling your inbox; false positive potentially more costly if important mail is not seen."
   ]
  },
  {
   "cell_type": "markdown",
   "metadata": {},
   "source": [
    "## Activity: \"Cost Benefit Analysis\"\n",
    "One tool that complements the confusion matrix is cost-benefit analysis, where you attach a value to correctly and incorrectly predicted data.\n",
    "\n",
    "Like the Precision-Recall trade off, there is a balancing point to the probabilities of a given position in the confusion matrix, and the cost or benefit to that position. This approach allows you to not only add a weighting system to your confusion matrix, but also to speak the language of your business stakeholders (i.e. communicate your values in dollars!).\n",
    "\n",
    "Consider the following marketing problem:\n",
    "\n",
    "As a data scientist working on marketing spend, you've build a model that reduces user churn--the number of users who decide to stop paying for a product--through a marketing campaign. Your model generates a confusion matrix with the following probabilities (these probabilities are calculated as the value in that position over the sum of the sample):\n",
    "\n",
    "\n",
    "| TP: 0.2 | FP: 0.2 |\n",
    "| -- | -- |\n",
    "| FN: 0.1 | TN: 0.5 |\n",
    "\n",
    "In this case: \n",
    "- The benefit of a true positive is the retention of a user ($10 for the month) \n",
    "- The cost of a false positive is the spend of the campaign per user ($0.05) \n",
    "- The cost of a false negative (someone who could have retained if sent the campaign) is, effectively, 0 (we didn't send it... but we certainly didn't benefit!) \n",
    "- The benefit of a true negative is 0: No spend on users who would have never retained.\n",
    "\n",
    "To calculate Cost-Benefit, we'll use this following function:\n",
    "\n",
    "    (P(TP) * B(TP)) + (P(TN) * B(TN)) + (P(FP) * C(FP)) + (P(FN) * C(FN))\n",
    "\n",
    "which for our marketing problem, comes out to this:\n",
    "\n",
    "    (.2 * 10) + (.5 * 0) - (.2 * .05) - (.1 * 0)\n",
    "\n",
    "or $1.99 per user targeted."
   ]
  },
  {
   "cell_type": "markdown",
   "metadata": {},
   "source": [
    "### Cost Benefit Analysis Questions\n",
    "\n",
    "Think about precision, recall, and cost benefit analysis to answer the following questions:\n",
    "\n",
    "**Q1.** How would you rephrase the business problem if your model was optimising toward _precision_? i.e., How might the model behave differently, and what effect would if have?"
   ]
  },
  {
   "cell_type": "markdown",
   "metadata": {},
   "source": [
    "Answer: If optimising for precision then we should be confident that if the model predicts someone is at risk of churning then they really are. However the risk with this is that the model may potentially not identify lots of users who are at risk because it requires too high a certainty."
   ]
  },
  {
   "cell_type": "markdown",
   "metadata": {},
   "source": [
    "**Q2.** How would you rephrase the business problem if your model was optimising toward _recall_?"
   ]
  },
  {
   "cell_type": "markdown",
   "metadata": {},
   "source": [
    "Answer: If optimising towards recall then we should be certain that we identify most of those who are at risk of churning, but at the risk that we also correctly mis-identify lots of other customers who are not at risk of churning."
   ]
  },
  {
   "cell_type": "markdown",
   "metadata": {},
   "source": [
    "**Q3.** What would the most ideal model look like in this case?"
   ]
  },
  {
   "cell_type": "markdown",
   "metadata": {},
   "source": [
    "Answer: One that catches all of those at risk of churning (high recall), while keeping accuracy as high as possible."
   ]
  },
  {
   "cell_type": "markdown",
   "metadata": {},
   "source": [
    "## Demo: \"Visualising Models Over Variables\""
   ]
  },
  {
   "cell_type": "code",
   "execution_count": 5,
   "metadata": {
    "collapsed": false
   },
   "outputs": [],
   "source": [
    "# Imports\n",
    "import matplotlib.pyplot as plt\n",
    "import numpy as np\n",
    "import pandas as pd\n",
    "from pathlib import Path\n",
    "import sklearn.linear_model as lm\n",
    "%matplotlib inline\n",
    "\n",
    "# Config\n",
    "DATA_DIR = Path('./resources')\n",
    "np.random.seed(1)"
   ]
  },
  {
   "cell_type": "code",
   "execution_count": 6,
   "metadata": {
    "collapsed": false
   },
   "outputs": [
    {
     "data": {
      "text/html": [
       "<div>\n",
       "<table border=\"1\" class=\"dataframe\">\n",
       "  <thead>\n",
       "    <tr style=\"text-align: right;\">\n",
       "      <th></th>\n",
       "      <th>DAY_OF_MONTH</th>\n",
       "      <th>DAY_OF_WEEK</th>\n",
       "      <th>FL_DATE</th>\n",
       "      <th>UNIQUE_CARRIER</th>\n",
       "      <th>AIRLINE_ID</th>\n",
       "      <th>CARRIER</th>\n",
       "      <th>ORIGIN_AIRPORT_ID</th>\n",
       "      <th>ORIGIN_AIRPORT_SEQ_ID</th>\n",
       "      <th>ORIGIN_CITY_MARKET_ID</th>\n",
       "      <th>DEST_AIRPORT_ID</th>\n",
       "      <th>DEST_AIRPORT_SEQ_ID</th>\n",
       "      <th>DEST_CITY_MARKET_ID</th>\n",
       "      <th>CRS_DEP_TIME</th>\n",
       "      <th>DEP_TIME</th>\n",
       "      <th>DEP_DEL15</th>\n",
       "      <th>Unnamed: 15</th>\n",
       "    </tr>\n",
       "  </thead>\n",
       "  <tbody>\n",
       "    <tr>\n",
       "      <th>0</th>\n",
       "      <td>1</td>\n",
       "      <td>4</td>\n",
       "      <td>2015-01-01</td>\n",
       "      <td>AA</td>\n",
       "      <td>19805</td>\n",
       "      <td>AA</td>\n",
       "      <td>12478</td>\n",
       "      <td>1247802</td>\n",
       "      <td>31703</td>\n",
       "      <td>12892</td>\n",
       "      <td>1289203</td>\n",
       "      <td>32575</td>\n",
       "      <td>900</td>\n",
       "      <td>855.0</td>\n",
       "      <td>0.0</td>\n",
       "      <td>NaN</td>\n",
       "    </tr>\n",
       "    <tr>\n",
       "      <th>1</th>\n",
       "      <td>1</td>\n",
       "      <td>4</td>\n",
       "      <td>2015-01-01</td>\n",
       "      <td>AA</td>\n",
       "      <td>19805</td>\n",
       "      <td>AA</td>\n",
       "      <td>12892</td>\n",
       "      <td>1289203</td>\n",
       "      <td>32575</td>\n",
       "      <td>12478</td>\n",
       "      <td>1247802</td>\n",
       "      <td>31703</td>\n",
       "      <td>900</td>\n",
       "      <td>856.0</td>\n",
       "      <td>0.0</td>\n",
       "      <td>NaN</td>\n",
       "    </tr>\n",
       "    <tr>\n",
       "      <th>2</th>\n",
       "      <td>1</td>\n",
       "      <td>4</td>\n",
       "      <td>2015-01-01</td>\n",
       "      <td>AA</td>\n",
       "      <td>19805</td>\n",
       "      <td>AA</td>\n",
       "      <td>12478</td>\n",
       "      <td>1247802</td>\n",
       "      <td>31703</td>\n",
       "      <td>12892</td>\n",
       "      <td>1289203</td>\n",
       "      <td>32575</td>\n",
       "      <td>1230</td>\n",
       "      <td>1226.0</td>\n",
       "      <td>0.0</td>\n",
       "      <td>NaN</td>\n",
       "    </tr>\n",
       "    <tr>\n",
       "      <th>3</th>\n",
       "      <td>1</td>\n",
       "      <td>4</td>\n",
       "      <td>2015-01-01</td>\n",
       "      <td>AA</td>\n",
       "      <td>19805</td>\n",
       "      <td>AA</td>\n",
       "      <td>12892</td>\n",
       "      <td>1289203</td>\n",
       "      <td>32575</td>\n",
       "      <td>12478</td>\n",
       "      <td>1247802</td>\n",
       "      <td>31703</td>\n",
       "      <td>1220</td>\n",
       "      <td>1214.0</td>\n",
       "      <td>0.0</td>\n",
       "      <td>NaN</td>\n",
       "    </tr>\n",
       "    <tr>\n",
       "      <th>4</th>\n",
       "      <td>1</td>\n",
       "      <td>4</td>\n",
       "      <td>2015-01-01</td>\n",
       "      <td>AA</td>\n",
       "      <td>19805</td>\n",
       "      <td>AA</td>\n",
       "      <td>11298</td>\n",
       "      <td>1129803</td>\n",
       "      <td>30194</td>\n",
       "      <td>12173</td>\n",
       "      <td>1217302</td>\n",
       "      <td>32134</td>\n",
       "      <td>1305</td>\n",
       "      <td>1754.0</td>\n",
       "      <td>1.0</td>\n",
       "      <td>NaN</td>\n",
       "    </tr>\n",
       "  </tbody>\n",
       "</table>\n",
       "</div>"
      ],
      "text/plain": [
       "   DAY_OF_MONTH  DAY_OF_WEEK     FL_DATE UNIQUE_CARRIER  AIRLINE_ID CARRIER  \\\n",
       "0             1            4  2015-01-01             AA       19805      AA   \n",
       "1             1            4  2015-01-01             AA       19805      AA   \n",
       "2             1            4  2015-01-01             AA       19805      AA   \n",
       "3             1            4  2015-01-01             AA       19805      AA   \n",
       "4             1            4  2015-01-01             AA       19805      AA   \n",
       "\n",
       "   ORIGIN_AIRPORT_ID  ORIGIN_AIRPORT_SEQ_ID  ORIGIN_CITY_MARKET_ID  \\\n",
       "0              12478                1247802                  31703   \n",
       "1              12892                1289203                  32575   \n",
       "2              12478                1247802                  31703   \n",
       "3              12892                1289203                  32575   \n",
       "4              11298                1129803                  30194   \n",
       "\n",
       "   DEST_AIRPORT_ID  DEST_AIRPORT_SEQ_ID  DEST_CITY_MARKET_ID  CRS_DEP_TIME  \\\n",
       "0            12892              1289203                32575           900   \n",
       "1            12478              1247802                31703           900   \n",
       "2            12892              1289203                32575          1230   \n",
       "3            12478              1247802                31703          1220   \n",
       "4            12173              1217302                32134          1305   \n",
       "\n",
       "   DEP_TIME  DEP_DEL15  Unnamed: 15  \n",
       "0     855.0        0.0          NaN  \n",
       "1     856.0        0.0          NaN  \n",
       "2    1226.0        0.0          NaN  \n",
       "3    1214.0        0.0          NaN  \n",
       "4    1754.0        1.0          NaN  "
      ]
     },
     "execution_count": 6,
     "metadata": {},
     "output_type": "execute_result"
    }
   ],
   "source": [
    "# This flight delays dataset is a common dataset used by the machine learning community to\n",
    "# test out algorithms and models, given it's publicly available and sizable at around 43MB\n",
    "# The data originally comes from RITA here: http://www.transtats.bts.gov/DL_SelectFields.asp?Table_ID=236\n",
    "# You can find additional information here: http://stat-computing.org/dataexpo/2009/the-data.html\n",
    "# And a full data dictionary for the expanded dataset is here:\n",
    "#           https://github.com/facetjs/flight-data/blob/master/docs/792300206_T_ONTIME_ReadMe.csv\n",
    "df = pd.read_csv(DATA_DIR / 'flight_delays.csv')\n",
    "df.head()"
   ]
  },
  {
   "cell_type": "code",
   "execution_count": 7,
   "metadata": {
    "collapsed": false
   },
   "outputs": [
    {
     "data": {
      "text/html": [
       "<div>\n",
       "<table border=\"1\" class=\"dataframe\">\n",
       "  <thead>\n",
       "    <tr style=\"text-align: right;\">\n",
       "      <th></th>\n",
       "      <th>DAY_OF_MONTH</th>\n",
       "      <th>DAY_OF_WEEK</th>\n",
       "      <th>AIRLINE_ID</th>\n",
       "      <th>ORIGIN_AIRPORT_ID</th>\n",
       "      <th>ORIGIN_AIRPORT_SEQ_ID</th>\n",
       "      <th>ORIGIN_CITY_MARKET_ID</th>\n",
       "      <th>DEST_AIRPORT_ID</th>\n",
       "      <th>DEST_AIRPORT_SEQ_ID</th>\n",
       "      <th>DEST_CITY_MARKET_ID</th>\n",
       "      <th>CRS_DEP_TIME</th>\n",
       "      <th>DEP_TIME</th>\n",
       "      <th>DEP_DEL15</th>\n",
       "      <th>Unnamed: 15</th>\n",
       "    </tr>\n",
       "  </thead>\n",
       "  <tbody>\n",
       "    <tr>\n",
       "      <th>count</th>\n",
       "      <td>469968.000000</td>\n",
       "      <td>469968.000000</td>\n",
       "      <td>469968.000000</td>\n",
       "      <td>469968.000000</td>\n",
       "      <td>4.699680e+05</td>\n",
       "      <td>469968.000000</td>\n",
       "      <td>469968.000000</td>\n",
       "      <td>4.699680e+05</td>\n",
       "      <td>469968.000000</td>\n",
       "      <td>469968.000000</td>\n",
       "      <td>458311.000000</td>\n",
       "      <td>458311.000000</td>\n",
       "      <td>0.0</td>\n",
       "    </tr>\n",
       "    <tr>\n",
       "      <th>mean</th>\n",
       "      <td>15.853001</td>\n",
       "      <td>4.025559</td>\n",
       "      <td>19980.920950</td>\n",
       "      <td>12669.404240</td>\n",
       "      <td>1.266943e+06</td>\n",
       "      <td>31714.181421</td>\n",
       "      <td>12669.437149</td>\n",
       "      <td>1.266946e+06</td>\n",
       "      <td>31714.077071</td>\n",
       "      <td>1323.513392</td>\n",
       "      <td>1333.028542</td>\n",
       "      <td>0.198507</td>\n",
       "      <td>NaN</td>\n",
       "    </tr>\n",
       "    <tr>\n",
       "      <th>std</th>\n",
       "      <td>8.952803</td>\n",
       "      <td>1.933772</td>\n",
       "      <td>399.259064</td>\n",
       "      <td>1516.976267</td>\n",
       "      <td>1.516973e+05</td>\n",
       "      <td>1284.310179</td>\n",
       "      <td>1516.825219</td>\n",
       "      <td>1.516822e+05</td>\n",
       "      <td>1284.235000</td>\n",
       "      <td>468.146653</td>\n",
       "      <td>479.639617</td>\n",
       "      <td>0.398876</td>\n",
       "      <td>NaN</td>\n",
       "    </tr>\n",
       "    <tr>\n",
       "      <th>min</th>\n",
       "      <td>1.000000</td>\n",
       "      <td>1.000000</td>\n",
       "      <td>19393.000000</td>\n",
       "      <td>10135.000000</td>\n",
       "      <td>1.013503e+06</td>\n",
       "      <td>30070.000000</td>\n",
       "      <td>10135.000000</td>\n",
       "      <td>1.013503e+06</td>\n",
       "      <td>30070.000000</td>\n",
       "      <td>5.000000</td>\n",
       "      <td>1.000000</td>\n",
       "      <td>0.000000</td>\n",
       "      <td>NaN</td>\n",
       "    </tr>\n",
       "    <tr>\n",
       "      <th>25%</th>\n",
       "      <td>8.000000</td>\n",
       "      <td>2.000000</td>\n",
       "      <td>19790.000000</td>\n",
       "      <td>11292.000000</td>\n",
       "      <td>1.129202e+06</td>\n",
       "      <td>30627.000000</td>\n",
       "      <td>11292.000000</td>\n",
       "      <td>1.129202e+06</td>\n",
       "      <td>30627.000000</td>\n",
       "      <td>925.000000</td>\n",
       "      <td>930.000000</td>\n",
       "      <td>0.000000</td>\n",
       "      <td>NaN</td>\n",
       "    </tr>\n",
       "    <tr>\n",
       "      <th>50%</th>\n",
       "      <td>16.000000</td>\n",
       "      <td>4.000000</td>\n",
       "      <td>19977.000000</td>\n",
       "      <td>12889.000000</td>\n",
       "      <td>1.288903e+06</td>\n",
       "      <td>31453.000000</td>\n",
       "      <td>12889.000000</td>\n",
       "      <td>1.288903e+06</td>\n",
       "      <td>31453.000000</td>\n",
       "      <td>1320.000000</td>\n",
       "      <td>1328.000000</td>\n",
       "      <td>0.000000</td>\n",
       "      <td>NaN</td>\n",
       "    </tr>\n",
       "    <tr>\n",
       "      <th>75%</th>\n",
       "      <td>24.000000</td>\n",
       "      <td>6.000000</td>\n",
       "      <td>20366.000000</td>\n",
       "      <td>13930.000000</td>\n",
       "      <td>1.393003e+06</td>\n",
       "      <td>32467.000000</td>\n",
       "      <td>13930.000000</td>\n",
       "      <td>1.393003e+06</td>\n",
       "      <td>32467.000000</td>\n",
       "      <td>1720.000000</td>\n",
       "      <td>1729.000000</td>\n",
       "      <td>0.000000</td>\n",
       "      <td>NaN</td>\n",
       "    </tr>\n",
       "    <tr>\n",
       "      <th>max</th>\n",
       "      <td>31.000000</td>\n",
       "      <td>7.000000</td>\n",
       "      <td>21171.000000</td>\n",
       "      <td>16218.000000</td>\n",
       "      <td>1.621801e+06</td>\n",
       "      <td>35991.000000</td>\n",
       "      <td>16218.000000</td>\n",
       "      <td>1.621801e+06</td>\n",
       "      <td>35991.000000</td>\n",
       "      <td>2359.000000</td>\n",
       "      <td>2400.000000</td>\n",
       "      <td>1.000000</td>\n",
       "      <td>NaN</td>\n",
       "    </tr>\n",
       "  </tbody>\n",
       "</table>\n",
       "</div>"
      ],
      "text/plain": [
       "        DAY_OF_MONTH    DAY_OF_WEEK     AIRLINE_ID  ORIGIN_AIRPORT_ID  \\\n",
       "count  469968.000000  469968.000000  469968.000000      469968.000000   \n",
       "mean       15.853001       4.025559   19980.920950       12669.404240   \n",
       "std         8.952803       1.933772     399.259064        1516.976267   \n",
       "min         1.000000       1.000000   19393.000000       10135.000000   \n",
       "25%         8.000000       2.000000   19790.000000       11292.000000   \n",
       "50%        16.000000       4.000000   19977.000000       12889.000000   \n",
       "75%        24.000000       6.000000   20366.000000       13930.000000   \n",
       "max        31.000000       7.000000   21171.000000       16218.000000   \n",
       "\n",
       "       ORIGIN_AIRPORT_SEQ_ID  ORIGIN_CITY_MARKET_ID  DEST_AIRPORT_ID  \\\n",
       "count           4.699680e+05          469968.000000    469968.000000   \n",
       "mean            1.266943e+06           31714.181421     12669.437149   \n",
       "std             1.516973e+05            1284.310179      1516.825219   \n",
       "min             1.013503e+06           30070.000000     10135.000000   \n",
       "25%             1.129202e+06           30627.000000     11292.000000   \n",
       "50%             1.288903e+06           31453.000000     12889.000000   \n",
       "75%             1.393003e+06           32467.000000     13930.000000   \n",
       "max             1.621801e+06           35991.000000     16218.000000   \n",
       "\n",
       "       DEST_AIRPORT_SEQ_ID  DEST_CITY_MARKET_ID   CRS_DEP_TIME       DEP_TIME  \\\n",
       "count         4.699680e+05        469968.000000  469968.000000  458311.000000   \n",
       "mean          1.266946e+06         31714.077071    1323.513392    1333.028542   \n",
       "std           1.516822e+05          1284.235000     468.146653     479.639617   \n",
       "min           1.013503e+06         30070.000000       5.000000       1.000000   \n",
       "25%           1.129202e+06         30627.000000     925.000000     930.000000   \n",
       "50%           1.288903e+06         31453.000000    1320.000000    1328.000000   \n",
       "75%           1.393003e+06         32467.000000    1720.000000    1729.000000   \n",
       "max           1.621801e+06         35991.000000    2359.000000    2400.000000   \n",
       "\n",
       "           DEP_DEL15  Unnamed: 15  \n",
       "count  458311.000000          0.0  \n",
       "mean        0.198507          NaN  \n",
       "std         0.398876          NaN  \n",
       "min         0.000000          NaN  \n",
       "25%         0.000000          NaN  \n",
       "50%         0.000000          NaN  \n",
       "75%         0.000000          NaN  \n",
       "max         1.000000          NaN  "
      ]
     },
     "execution_count": 7,
     "metadata": {},
     "output_type": "execute_result"
    }
   ],
   "source": [
    "df.describe()"
   ]
  },
  {
   "cell_type": "code",
   "execution_count": 8,
   "metadata": {
    "collapsed": false
   },
   "outputs": [
    {
     "data": {
      "text/plain": [
       "Index([u'DAY_OF_MONTH', u'DAY_OF_WEEK', u'FL_DATE', u'UNIQUE_CARRIER',\n",
       "       u'AIRLINE_ID', u'CARRIER', u'ORIGIN_AIRPORT_ID',\n",
       "       u'ORIGIN_AIRPORT_SEQ_ID', u'ORIGIN_CITY_MARKET_ID', u'DEST_AIRPORT_ID',\n",
       "       u'DEST_AIRPORT_SEQ_ID', u'DEST_CITY_MARKET_ID', u'CRS_DEP_TIME',\n",
       "       u'DEP_TIME', u'DEP_DEL15', u'Unnamed: 15'],\n",
       "      dtype='object')"
      ]
     },
     "execution_count": 8,
     "metadata": {},
     "output_type": "execute_result"
    }
   ],
   "source": [
    "df.columns"
   ]
  },
  {
   "cell_type": "code",
   "execution_count": 9,
   "metadata": {
    "collapsed": false
   },
   "outputs": [],
   "source": [
    "# Clean up the data\n",
    "del df['Unnamed: 15']  # drop empty column (occurs due to strange CSV formatting)\n",
    "df = df[df.DEP_DEL15.notnull()]  # remove rows where DEP_DEL15 is missing\n",
    "df = df.join(pd.get_dummies(df['CARRIER'], prefix='carrier'))  # dummy CARRIER, e.g. carrier_AA\n",
    "df = df.join(pd.get_dummies(df['DAY_OF_WEEK'], prefix='dow'))  # dummy DAY_OF_WEEK, e.g. dow_4"
   ]
  },
  {
   "cell_type": "code",
   "execution_count": 10,
   "metadata": {
    "collapsed": false
   },
   "outputs": [
    {
     "data": {
      "text/plain": [
       "['dow_2', 'dow_3', 'dow_4', 'dow_5', 'dow_6', 'dow_7', 'CRS_DEP_TIME']"
      ]
     },
     "execution_count": 10,
     "metadata": {},
     "output_type": "execute_result"
    }
   ],
   "source": [
    "# Build a basic logistic regression model using day of week and time of day (CRS_DEP_TIME)\n",
    "model = lm.LogisticRegression()\n",
    "features = [i for i in df.columns if 'dow_' in i] + ['CRS_DEP_TIME']\n",
    "features = features[1:]  # don't need dow_1 dummied\n",
    "features"
   ]
  },
  {
   "cell_type": "code",
   "execution_count": 19,
   "metadata": {
    "collapsed": false
   },
   "outputs": [
    {
     "data": {
      "text/html": [
       "<div>\n",
       "<table border=\"1\" class=\"dataframe\">\n",
       "  <thead>\n",
       "    <tr style=\"text-align: right;\">\n",
       "      <th></th>\n",
       "      <th>DAY_OF_MONTH</th>\n",
       "      <th>DAY_OF_WEEK</th>\n",
       "      <th>FL_DATE</th>\n",
       "      <th>UNIQUE_CARRIER</th>\n",
       "      <th>AIRLINE_ID</th>\n",
       "      <th>CARRIER</th>\n",
       "      <th>ORIGIN_AIRPORT_ID</th>\n",
       "      <th>ORIGIN_AIRPORT_SEQ_ID</th>\n",
       "      <th>ORIGIN_CITY_MARKET_ID</th>\n",
       "      <th>DEST_AIRPORT_ID</th>\n",
       "      <th>...</th>\n",
       "      <th>carrier_VX</th>\n",
       "      <th>carrier_WN</th>\n",
       "      <th>dow_1</th>\n",
       "      <th>dow_2</th>\n",
       "      <th>dow_3</th>\n",
       "      <th>dow_4</th>\n",
       "      <th>dow_5</th>\n",
       "      <th>dow_6</th>\n",
       "      <th>dow_7</th>\n",
       "      <th>probability</th>\n",
       "    </tr>\n",
       "  </thead>\n",
       "  <tbody>\n",
       "    <tr>\n",
       "      <th>0</th>\n",
       "      <td>1</td>\n",
       "      <td>4</td>\n",
       "      <td>2015-01-01</td>\n",
       "      <td>AA</td>\n",
       "      <td>19805</td>\n",
       "      <td>AA</td>\n",
       "      <td>12478</td>\n",
       "      <td>1247802</td>\n",
       "      <td>31703</td>\n",
       "      <td>12892</td>\n",
       "      <td>...</td>\n",
       "      <td>0.0</td>\n",
       "      <td>0.0</td>\n",
       "      <td>0.0</td>\n",
       "      <td>0.0</td>\n",
       "      <td>0.0</td>\n",
       "      <td>1.0</td>\n",
       "      <td>0.0</td>\n",
       "      <td>0.0</td>\n",
       "      <td>0.0</td>\n",
       "      <td>0.129193</td>\n",
       "    </tr>\n",
       "    <tr>\n",
       "      <th>1</th>\n",
       "      <td>1</td>\n",
       "      <td>4</td>\n",
       "      <td>2015-01-01</td>\n",
       "      <td>AA</td>\n",
       "      <td>19805</td>\n",
       "      <td>AA</td>\n",
       "      <td>12892</td>\n",
       "      <td>1289203</td>\n",
       "      <td>32575</td>\n",
       "      <td>12478</td>\n",
       "      <td>...</td>\n",
       "      <td>0.0</td>\n",
       "      <td>0.0</td>\n",
       "      <td>0.0</td>\n",
       "      <td>0.0</td>\n",
       "      <td>0.0</td>\n",
       "      <td>1.0</td>\n",
       "      <td>0.0</td>\n",
       "      <td>0.0</td>\n",
       "      <td>0.0</td>\n",
       "      <td>0.129193</td>\n",
       "    </tr>\n",
       "    <tr>\n",
       "      <th>2</th>\n",
       "      <td>1</td>\n",
       "      <td>4</td>\n",
       "      <td>2015-01-01</td>\n",
       "      <td>AA</td>\n",
       "      <td>19805</td>\n",
       "      <td>AA</td>\n",
       "      <td>12478</td>\n",
       "      <td>1247802</td>\n",
       "      <td>31703</td>\n",
       "      <td>12892</td>\n",
       "      <td>...</td>\n",
       "      <td>0.0</td>\n",
       "      <td>0.0</td>\n",
       "      <td>0.0</td>\n",
       "      <td>0.0</td>\n",
       "      <td>0.0</td>\n",
       "      <td>1.0</td>\n",
       "      <td>0.0</td>\n",
       "      <td>0.0</td>\n",
       "      <td>0.0</td>\n",
       "      <td>0.158102</td>\n",
       "    </tr>\n",
       "    <tr>\n",
       "      <th>3</th>\n",
       "      <td>1</td>\n",
       "      <td>4</td>\n",
       "      <td>2015-01-01</td>\n",
       "      <td>AA</td>\n",
       "      <td>19805</td>\n",
       "      <td>AA</td>\n",
       "      <td>12892</td>\n",
       "      <td>1289203</td>\n",
       "      <td>32575</td>\n",
       "      <td>12478</td>\n",
       "      <td>...</td>\n",
       "      <td>0.0</td>\n",
       "      <td>0.0</td>\n",
       "      <td>0.0</td>\n",
       "      <td>0.0</td>\n",
       "      <td>0.0</td>\n",
       "      <td>1.0</td>\n",
       "      <td>0.0</td>\n",
       "      <td>0.0</td>\n",
       "      <td>0.0</td>\n",
       "      <td>0.157153</td>\n",
       "    </tr>\n",
       "    <tr>\n",
       "      <th>4</th>\n",
       "      <td>1</td>\n",
       "      <td>4</td>\n",
       "      <td>2015-01-01</td>\n",
       "      <td>AA</td>\n",
       "      <td>19805</td>\n",
       "      <td>AA</td>\n",
       "      <td>11298</td>\n",
       "      <td>1129803</td>\n",
       "      <td>30194</td>\n",
       "      <td>12173</td>\n",
       "      <td>...</td>\n",
       "      <td>0.0</td>\n",
       "      <td>0.0</td>\n",
       "      <td>0.0</td>\n",
       "      <td>0.0</td>\n",
       "      <td>0.0</td>\n",
       "      <td>1.0</td>\n",
       "      <td>0.0</td>\n",
       "      <td>0.0</td>\n",
       "      <td>0.0</td>\n",
       "      <td>0.165363</td>\n",
       "    </tr>\n",
       "  </tbody>\n",
       "</table>\n",
       "<p>5 rows × 37 columns</p>\n",
       "</div>"
      ],
      "text/plain": [
       "   DAY_OF_MONTH  DAY_OF_WEEK     FL_DATE UNIQUE_CARRIER  AIRLINE_ID CARRIER  \\\n",
       "0             1            4  2015-01-01             AA       19805      AA   \n",
       "1             1            4  2015-01-01             AA       19805      AA   \n",
       "2             1            4  2015-01-01             AA       19805      AA   \n",
       "3             1            4  2015-01-01             AA       19805      AA   \n",
       "4             1            4  2015-01-01             AA       19805      AA   \n",
       "\n",
       "   ORIGIN_AIRPORT_ID  ORIGIN_AIRPORT_SEQ_ID  ORIGIN_CITY_MARKET_ID  \\\n",
       "0              12478                1247802                  31703   \n",
       "1              12892                1289203                  32575   \n",
       "2              12478                1247802                  31703   \n",
       "3              12892                1289203                  32575   \n",
       "4              11298                1129803                  30194   \n",
       "\n",
       "   DEST_AIRPORT_ID     ...       carrier_VX  carrier_WN  dow_1  dow_2  dow_3  \\\n",
       "0            12892     ...              0.0         0.0    0.0    0.0    0.0   \n",
       "1            12478     ...              0.0         0.0    0.0    0.0    0.0   \n",
       "2            12892     ...              0.0         0.0    0.0    0.0    0.0   \n",
       "3            12478     ...              0.0         0.0    0.0    0.0    0.0   \n",
       "4            12173     ...              0.0         0.0    0.0    0.0    0.0   \n",
       "\n",
       "   dow_4  dow_5  dow_6  dow_7  probability  \n",
       "0    1.0    0.0    0.0    0.0     0.129193  \n",
       "1    1.0    0.0    0.0    0.0     0.129193  \n",
       "2    1.0    0.0    0.0    0.0     0.158102  \n",
       "3    1.0    0.0    0.0    0.0     0.157153  \n",
       "4    1.0    0.0    0.0    0.0     0.165363  \n",
       "\n",
       "[5 rows x 37 columns]"
      ]
     },
     "execution_count": 19,
     "metadata": {},
     "output_type": "execute_result"
    }
   ],
   "source": [
    "# Fit model - we want to predict for DEP_DEL15 (\"Departure Delay Indicator, 15 Minutes or More (1=Yes)\")\n",
    "model.fit(df[features], df['DEP_DEL15'])\n",
    "df['probability'] = model.predict_proba(df[features]).T[1]\n",
    "df.head()"
   ]
  },
  {
   "cell_type": "code",
   "execution_count": 24,
   "metadata": {
    "collapsed": false
   },
   "outputs": [
    {
     "data": {
      "text/plain": [
       "[<matplotlib.text.Text at 0x11bb91d10>]"
      ]
     },
     "execution_count": 24,
     "metadata": {},
     "output_type": "execute_result"
    },
    {
     "data": {
      "image/png": "[encoded data removed]",
      "text/plain": [
       "<matplotlib.figure.Figure at 0x119dfe2d0>"
      ]
     },
     "metadata": {},
     "output_type": "display_data"
    }
   ],
   "source": [
    "# Visualise probability of delay by day of week and time of day\n",
    "ax = plt.subplot(111)\n",
    "colors = ['blue', 'green', 'red', 'purple', 'orange', 'brown']\n",
    "for e, c in enumerate(colors):\n",
    "    df[df[features[e]] == 1].plot(x='CRS_DEP_TIME',\n",
    "                                  y='probability',\n",
    "                                  kind='scatter',\n",
    "                                  color=c,\n",
    "                                  ax=ax)\n",
    "\n",
    "ax.set(title='Probability of Delay\\n Based on Day of Week and Time of Day')"
   ]
  },
  {
   "cell_type": "markdown",
   "metadata": {},
   "source": [
    "## Activity: \"Try It Out\"\n",
    "1. Adjust the model to make delay predictions using airlines instead of day of week, and time, then plot the effect on DEP_DEL15=1.\n",
    "2. Try plotting the inverse: pick either model and plot the effect on DEP_DEL15=0."
   ]
  },
  {
   "cell_type": "markdown",
   "metadata": {},
   "source": [
    "#### 1. Visualise P(delay) vs airline"
   ]
  },
  {
   "cell_type": "code",
   "execution_count": 26,
   "metadata": {
    "collapsed": false
   },
   "outputs": [
    {
     "data": {
      "text/plain": [
       "[<matplotlib.text.Text at 0x11b454f10>]"
      ]
     },
     "execution_count": 26,
     "metadata": {},
     "output_type": "execute_result"
    },
    {
     "data": {
      "image/png": "[encoded data removed]",
      "text/plain": [
       "<matplotlib.figure.Figure at 0x119df3610>"
      ]
     },
     "metadata": {},
     "output_type": "display_data"
    }
   ],
   "source": [
    "features = [i for i in df.columns if 'carrier_' in i] + ['CRS_DEP_TIME']\n",
    "model.fit(df[features], df['DEP_DEL15'])\n",
    "df['probability'] = model.predict_proba(df[features]).T[1]\n",
    "\n",
    "ax = plt.subplot(111)\n",
    "colors = ['blue', 'green', 'red', 'purple', 'orange', 'brown']\n",
    "for e, c in enumerate(colors):\n",
    "    df[df[features[e]] == 1].plot(x='CRS_DEP_TIME',\n",
    "                                  y='probability',\n",
    "                                  kind='scatter',\n",
    "                                  color=c,\n",
    "                                  ax=ax)\n",
    "\n",
    "ax.set(title='Probability of Delay\\n Based on Day of Week and Time of Day')"
   ]
  },
  {
   "cell_type": "markdown",
   "metadata": {},
   "source": [
    "#### 2. Visualise the inverse (i.e. plot effect on DEP_DEL15=0)"
   ]
  },
  {
   "cell_type": "code",
   "execution_count": 33,
   "metadata": {
    "collapsed": true
   },
   "outputs": [],
   "source": [
    "df['probability_DEP_DEL15_0'] = model.predict_proba(df[features]).T[0]"
   ]
  },
  {
   "cell_type": "code",
   "execution_count": 32,
   "metadata": {
    "collapsed": false
   },
   "outputs": [
    {
     "data": {
      "image/png": "[encoded data removed]",
      "text/plain": [
       "<matplotlib.figure.Figure at 0x136ff0090>"
      ]
     },
     "metadata": {},
     "output_type": "display_data"
    },
    {
     "data": {
      "text/plain": [
       "<ggplot: (301995977)>"
      ]
     },
     "execution_count": 32,
     "metadata": {},
     "output_type": "execute_result"
    }
   ],
   "source": [
    "\n",
    "# Using ggplot this time\n",
    "\n",
    "from ggplot import ggplot, aes, geom_point, ggtitle\n",
    "\n",
    "ggplot(df, aes('CRS_DEP_TIME', 'probability_DEP_DEL15_0', colour = 'DAY_OF_WEEK')) + \\\n",
    "    geom_point() + \\\n",
    "    ggtitle('Probability of no Delay\\n Based on Day of Week and Time of Day')"
   ]
  },
  {
   "cell_type": "markdown",
   "metadata": {},
   "source": [
    "## Demo: \"Visualising Performance Against Baseline\""
   ]
  },
  {
   "cell_type": "markdown",
   "metadata": {},
   "source": [
    "#### Visualising AUC and comparing models"
   ]
  },
  {
   "cell_type": "code",
   "execution_count": null,
   "metadata": {
    "collapsed": true
   },
   "outputs": [],
   "source": [
    "from sklearn import dummy, metrics"
   ]
  },
  {
   "cell_type": "code",
   "execution_count": null,
   "metadata": {
    "collapsed": false
   },
   "outputs": [],
   "source": [
    "features = [i for i in df.columns if 'dow_' in i][1:] + ['CRS_DEP_TIME']\n",
    "features"
   ]
  },
  {
   "cell_type": "code",
   "execution_count": null,
   "metadata": {
    "collapsed": false
   },
   "outputs": [],
   "source": [
    "# Fit dummy model\n",
    "dummy_model = dummy.DummyClassifier()\n",
    "dummy_model.fit(df[features], df['DEP_DEL15'])\n",
    "df['probability_dummy'] = dummy_model.predict_proba(df[features]).T[1]\n",
    "\n",
    "# Fit log-reg model\n",
    "lr_model = lm.LogisticRegression()\n",
    "lr_model.fit(df[features], df['DEP_DEL15'])\n",
    "df['probability_logreg'] = lr_model.predict_proba(df[features]).T[1]"
   ]
  },
  {
   "cell_type": "code",
   "execution_count": null,
   "metadata": {
    "collapsed": false
   },
   "outputs": [],
   "source": [
    "# Visualise AUC for each\n",
    "ax = plt.subplot(111)\n",
    "vals = metrics.roc_curve(df['DEP_DEL15'], df['probability_dummy'])\n",
    "ax.plot(vals[0], vals[1])\n",
    "vals = metrics.roc_curve(df['DEP_DEL15'], df['probability_logreg'])\n",
    "ax.plot(vals[0], vals[1])\n",
    "\n",
    "ax.set(title='Area Under Curve for prediction delayed=1', ylabel='', xlabel='', xlim=(0, 1), ylim=(0, 1))"
   ]
  },
  {
   "cell_type": "markdown",
   "metadata": {},
   "source": [
    "## Activity: \"Try It Out\"\n",
    "1. In a similar approach, use the sklearn precision_recall_curve function to enable you to plot the precision-recall curve of the four models from above.  Keep in mind precision in the first array is returned from the function, but the plot shows it as the y-axis.\n",
    "\n",
    "2. Explain what is occurring when the recall is below 0.2.\n",
    "\n",
    "3. Based on this performance, is there a clear winner at different thresholds?\n",
    "\n",
    "4. **Bonus:**  Redo both the AUC and precision-recall curves using models that have been cross validated using k-fold. How do these new figures change your expectations for performance?"
   ]
  },
  {
   "cell_type": "markdown",
   "metadata": {},
   "source": [
    "#### Visualising precision & recall"
   ]
  },
  {
   "cell_type": "code",
   "execution_count": null,
   "metadata": {
    "collapsed": true
   },
   "outputs": [],
   "source": [
    "# ..."
   ]
  }
 ],
 "metadata": {
  "kernelspec": {
   "display_name": "Python 2",
   "language": "python",
   "name": "python2"
  },
  "language_info": {
   "codemirror_mode": {
    "name": "ipython",
    "version": 2
   },
   "file_extension": ".py",
   "mimetype": "text/x-python",
   "name": "python",
   "nbconvert_exporter": "python",
   "pygments_lexer": "ipython2",
   "version": "2.7.11"
  }
 },
 "nbformat": 4,
 "nbformat_minor": 0
}
